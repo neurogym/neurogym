{
 "cells": [
  {
   "cell_type": "markdown",
   "metadata": {
    "colab_type": "text",
    "id": "view-in-github"
   },
   "source": [
    "[![Open In Colab](https://colab.research.google.com/assets/colab-badge.svg)](https://colab.research.google.com/github/neurogym/neurogym/blob/main/docs/examples/demo.ipynb)\n"
   ]
  },
  {
   "cell_type": "markdown",
   "metadata": {
    "colab_type": "text",
    "heading_collapsed": true,
    "id": "4zW6CU8F69Zp"
   },
   "source": [
    "## Exploring NeuroGym tasks\n"
   ]
  },
  {
   "cell_type": "markdown",
   "metadata": {
    "colab_type": "text",
    "hidden": true,
    "id": "xIE7qx_a7D0e"
   },
   "source": [
    "NeuroGym is a comprehensive toolkit that allows training any network model on many established neuroscience tasks using Reinforcement Learning techniques. It includes working memory tasks, value-based decision tasks and context-dependent perceptual categorization tasks.\n",
    "\n",
    "In this notebook we first show how to install the relevant toolbox.\n",
    "\n",
    "We then show how to access the available tasks and their relevant information.\n",
    "\n",
    "Finally we train an LSTM network on the Random Dots Motion task using the A2C algorithm [Mnih et al. 2016](https://arxiv.org/abs/1602.01783) implemented in the [stable-baselines3](https://stable-baselines3.readthedocs.io/en/master/) toolbox, and plot the results.\n",
    "\n",
    "You can easily change the code to train a network on any other available task or using a different algorithm (e.g. ACER, PPO2).\n"
   ]
  },
  {
   "cell_type": "markdown",
   "metadata": {
    "colab_type": "text",
    "id": "k3YKMoHkR2xL"
   },
   "source": [
    "### Installation\n",
    "\n",
    "**Google Colab:** Uncomment and execute cell below when running this notebook on google colab.\n",
    "\n",
    "**Local:** Follow [these instructions](https://github.com/neurogym/neurogym?tab=readme-ov-file#installation) when running\n",
    "this notebook locally.\n"
   ]
  },
  {
   "cell_type": "code",
   "execution_count": null,
   "metadata": {
    "colab": {
     "base_uri": "https://localhost:8080/",
     "height": 1000
    },
    "colab_type": "code",
    "hidden": true,
    "id": "Mp-K8wKGtBoE",
    "outputId": "9e2cefb9-2b67-4a3b-e838-5d60749b4b6f"
   },
   "outputs": [],
   "source": [
    "# ! pip install neurogym[rl]"
   ]
  },
  {
   "cell_type": "markdown",
   "metadata": {
    "colab_type": "text",
    "id": "ZllQKETBVXNM"
   },
   "source": [
    "### Explore tasks\n"
   ]
  },
  {
   "cell_type": "code",
   "execution_count": null,
   "metadata": {
    "colab": {
     "base_uri": "https://localhost:8080/",
     "height": 459
    },
    "colab_type": "code",
    "id": "CehSnXXBVMsh",
    "outputId": "06b18bf8-bfaa-4147-bf82-434665284741"
   },
   "outputs": [],
   "source": [
    "import warnings\n",
    "warnings.filterwarnings('ignore')\n",
    "import gymnasium as gym\n",
    "import neurogym as ngym\n",
    "from neurogym.utils import info, plotting\n",
    "info.all_tasks()"
   ]
  },
  {
   "cell_type": "markdown",
   "metadata": {
    "colab_type": "text",
    "id": "jzF5leN1R2xU"
   },
   "source": [
    "### Visualize a single task\n"
   ]
  },
  {
   "cell_type": "code",
   "execution_count": null,
   "metadata": {
    "colab": {
     "base_uri": "https://localhost:8080/",
     "height": 1000
    },
    "colab_type": "code",
    "id": "RaH9CcJdHY5G",
    "outputId": "b55de485-603f-4f73-af74-8cfecdcd3301"
   },
   "outputs": [],
   "source": [
    "task = 'GoNogo-v0'\n",
    "env = gym.make(task)\n",
    "print(env)\n",
    "fig = plotting.plot_env(\n",
    "    env,\n",
    "    num_steps=100,\n",
    "    # def_act=0,\n",
    "    ob_traces=['Fixation cue', 'NoGo', 'Go'],\n",
    "    # fig_kwargs={'figsize': (12, 12)}\n",
    "    )"
   ]
  },
  {
   "cell_type": "markdown",
   "metadata": {
    "colab_type": "text",
    "id": "h5BdRE6vVjeS"
   },
   "source": [
    "### Explore wrappers\n"
   ]
  },
  {
   "cell_type": "code",
   "execution_count": null,
   "metadata": {
    "colab": {
     "base_uri": "https://localhost:8080/",
     "height": 204
    },
    "colab_type": "code",
    "id": "OqyGbBGRVlhK",
    "outputId": "27a2e15b-5414-4a08-c6db-f66a7fc78b95"
   },
   "outputs": [],
   "source": [
    "info.all_wrappers()"
   ]
  },
  {
   "cell_type": "code",
   "execution_count": null,
   "metadata": {
    "colab": {
     "base_uri": "https://localhost:8080/",
     "height": 1000
    },
    "colab_type": "code",
    "id": "k92VZ01IN5bs",
    "outputId": "391cb8e3-36d6-47e7-e71e-166207552475"
   },
   "outputs": [],
   "source": [
    "info.info_wrapper('TrialHistoryV2-v0', show_code=True)"
   ]
  },
  {
   "cell_type": "markdown",
   "metadata": {
    "colab_type": "text",
    "id": "OCFMPbzX38Wj"
   },
   "source": [
    "### Train a network\n",
    "\n",
    "Here, we train a simple neural network on the task at hand. We use a [configuration file](./config.toml) to load the parameters for the monitor. You can refer to the [documentation](../../README.md#configuration) for more information about how to use the configuration system.\n"
   ]
  },
  {
   "cell_type": "code",
   "execution_count": null,
   "metadata": {
    "code_folding": [],
    "colab": {
     "base_uri": "https://localhost:8080/",
     "height": 853
    },
    "colab_type": "code",
    "id": "jAxTPbzL38Wl",
    "outputId": "3405476e-8c1b-4aa6-a45a-4206872cb732"
   },
   "outputs": [],
   "source": [
    "import warnings\n",
    "warnings.filterwarnings('ignore')\n",
    "import numpy as np\n",
    "from neurogym.wrappers import monitor, TrialHistoryV2\n",
    "from stable_baselines3.common.vec_env import DummyVecEnv\n",
    "from stable_baselines3 import A2C  # ACER, PPO2\n",
    "# task paremters\n",
    "timing = {'fixation': ('constant', 300),\n",
    "          'stimulus': ('constant', 700),\n",
    "          'decision': ('constant', 300)}\n",
    "kwargs = {'dt': 100, 'timing': timing}\n",
    "# wrapper parameters\n",
    "n_ch = 2\n",
    "p = 0.8\n",
    "num_blocks = 2\n",
    "probs = np.array([[p, 1-p], [1-p, p]])  # repeating block\n",
    "\n",
    "# Build the task\n",
    "env = gym.make(task, **kwargs)\n",
    "\n",
    "# Apply the wrapper.\n",
    "env = TrialHistoryV2(env, probs=probs)\n",
    "env = monitor.Monitor(env, config=\"config.toml\")"
   ]
  },
  {
   "cell_type": "code",
   "execution_count": null,
   "metadata": {},
   "outputs": [],
   "source": [
    "# the env is now wrapped automatically when passing it to the constructor\n",
    "model = A2C(\"MlpPolicy\", env, verbose=1, policy_kwargs={'net_arch': [64, 64]})\n",
    "model.learn(total_timesteps=env.config.agent.training.value)\n",
    "env.close()"
   ]
  },
  {
   "cell_type": "markdown",
   "metadata": {
    "colab_type": "text",
    "id": "svUQlptJAVv9"
   },
   "source": [
    "### Visualize the results\n"
   ]
  },
  {
   "cell_type": "code",
   "execution_count": null,
   "metadata": {},
   "outputs": [],
   "source": [
    "import numpy as np\n",
    "import matplotlib.pyplot as plt\n",
    "# Create task\n",
    "env = gym.make(task, **kwargs)\n",
    "# Apply the wrapper\n",
    "env = TrialHistoryV2(env, probs=probs)\n",
    "env = DummyVecEnv([lambda: env])\n",
    "fig = plotting.plot_env(\n",
    "    env,\n",
    "    num_steps=100,\n",
    "    # def_act=0,\n",
    "    ob_traces=['Fixation cue', 'NoGo', 'Go'],\n",
    "    # fig_kwargs={'figsize': (12, 12)},\n",
    "    model=model)"
   ]
  }
 ],
 "metadata": {
  "accelerator": "GPU",
  "colab": {
   "collapsed_sections": [],
   "include_colab_link": true,
   "name": "example_neurogym_rl.ipynb",
   "provenance": []
  },
  "hide_input": false,
  "kernelspec": {
   "display_name": "neurogym",
   "language": "python",
   "name": "python3"
  },
  "language_info": {
   "codemirror_mode": {
    "name": "ipython",
    "version": 3
   },
   "file_extension": ".py",
   "mimetype": "text/x-python",
   "name": "python",
   "nbconvert_exporter": "python",
   "pygments_lexer": "ipython3",
   "version": "3.11.9"
  },
  "toc": {
   "base_numbering": 1,
   "nav_menu": {},
   "number_sections": true,
   "sideBar": true,
   "skip_h1_title": false,
   "title_cell": "Table of Contents",
   "title_sidebar": "Contents",
   "toc_cell": false,
   "toc_position": {},
   "toc_section_display": true,
   "toc_window_display": false
  },
  "varInspector": {
   "cols": {
    "lenName": 16,
    "lenType": 16,
    "lenVar": 40
   },
   "kernels_config": {
    "python": {
     "delete_cmd_postfix": "",
     "delete_cmd_prefix": "del ",
     "library": "var_list.py",
     "varRefreshCmd": "print(var_dic_list())"
    },
    "r": {
     "delete_cmd_postfix": ") ",
     "delete_cmd_prefix": "rm(",
     "library": "var_list.r",
     "varRefreshCmd": "cat(var_dic_list()) "
    }
   },
   "types_to_exclude": [
    "module",
    "function",
    "builtin_function_or_method",
    "instance",
    "_Feature"
   ],
   "window_display": false
  }
 },
 "nbformat": 4,
 "nbformat_minor": 1
}
