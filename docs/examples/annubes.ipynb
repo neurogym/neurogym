{
  "cells": [
    {
      "cell_type": "markdown",
      "metadata": {},
      "source": [
        "[![Open In Colab](https://colab.research.google.com/assets/colab-badge.svg)](https://colab.research.google.com/github/neurogym/neurogym/blob/main/docs/examples/annubes.ipynb)\n"
      ]
    },
    {
      "cell_type": "markdown",
      "metadata": {},
      "source": [
        "## `AnnubesEnv` environment\n",
        "\n",
        "This notebook is a simple example of how to use the `AnnubesEnv` class to create a custom environment and use it to\n",
        "train a reinforcement learning agent with `stable_baselines3`.\n"
      ]
    },
    {
      "cell_type": "markdown",
      "metadata": {},
      "source": [
        "### Installation\n",
        "\n",
        "**Google Colab:** Uncomment and execute cell below when running this notebook on google colab.\n",
        "\n",
        "**Local:** Follow [these instructions](https://github.com/neurogym/neurogym?tab=readme-ov-file#installation) when running\n",
        "this notebook locally.\n"
      ]
    },
    {
      "cell_type": "code",
      "execution_count": null,
      "metadata": {},
      "outputs": [],
      "source": [
        "# ! pip install neurogym[rl]"
      ]
    },
    {
      "cell_type": "markdown",
      "metadata": {},
      "source": [
        "Import everything that we are going to need below."
      ]
    },
    {
      "cell_type": "code",
      "execution_count": null,
      "metadata": {},
      "outputs": [],
      "source": [
        "import warnings\n",
        "warnings.filterwarnings(\"default\")\n",
        "\n",
        "from stable_baselines3 import A2C\n",
        "from stable_baselines3.common.vec_env import DummyVecEnv\n",
        "from stable_baselines3.common.env_checker import check_env\n",
        "\n",
        "import neurogym as ngym\n",
        "from neurogym.envs.native.annubes import AnnubesEnv"
      ]
    },
    {
      "cell_type": "markdown",
      "metadata": {},
      "source": [
        "Let's create an environment, check it works and visualize it.\n"
      ]
    },
    {
      "cell_type": "code",
      "execution_count": null,
      "metadata": {},
      "outputs": [],
      "source": [
        "env = AnnubesEnv()\n",
        "\n",
        "# check the custom environment and output additional warnings (if any)\n",
        "check_env(env)\n",
        "\n",
        "# check the environment with a random agent\n",
        "obs, info = env.reset()\n",
        "n_steps = 10\n",
        "for _ in range(n_steps):\n",
        "    # random action\n",
        "    action = env.action_space.sample()\n",
        "    obs, reward, terminated, truncated, info = env.step(action)\n",
        "    if terminated:\n",
        "        obs, info = env.reset()\n",
        "\n",
        "print(env.timing)\n",
        "print(\"----------------\")\n",
        "print(env.observation_space)\n",
        "print(env.observation_space.name)\n",
        "print(\"----------------\")\n",
        "print(env.action_space)\n",
        "print(env.action_space.name)"
      ]
    },
    {
      "cell_type": "code",
      "execution_count": null,
      "metadata": {},
      "outputs": [],
      "source": [
        "fig = ngym.utils.plot_env(env, ob_traces=[\"fixation\", \"start\", \"a\", \"v\"], num_trials=10)"
      ]
    },
    {
      "cell_type": "markdown",
      "metadata": {},
      "source": [
        "The `session` argument can also contain combinations of stimuli that should be presented _together_ with a certain probability. Any such combinations can be specified as tuples in the `session` dictionary with the desired probability. For instance, in the following example, modalities `v` and `a` will appear together about 40% of the time."
      ]
    },
    {
      "cell_type": "code",
      "execution_count": null,
      "metadata": {},
      "outputs": [],
      "source": [
        "session = {\"v\": 1.0, \"a\": 0.0}\n",
        "env = AnnubesEnv(session=session)\n",
        "env.session"
      ]
    },
    {
      "cell_type": "code",
      "execution_count": null,
      "metadata": {},
      "outputs": [],
      "source": [
        "fig = ngym.utils.plot_env(\n",
        "    env,\n",
        "    ob_traces=[\"fixation\", \"start\", \"a\", \"v\"],\n",
        "    num_trials=30,\n",
        ")"
      ]
    },
    {
      "cell_type": "markdown",
      "metadata": {},
      "source": [
        "Combinations of stimuli can even be specified without necessarily adding the individual stimuli to the `session` dictionary. The environment will automatically add missing elementary modalities to the `session` dictionary with a probability set to 0.0. For instance, the following environment will present both `a` and `v` 50% of the non-catch trials and only `v` for the other 50%. The missing `a` modality will be added automatically to the session dictionary with a probability set to 0."
      ]
    },
    {
      "cell_type": "code",
      "execution_count": null,
      "metadata": {},
      "outputs": [],
      "source": [
        "session = {\"v\": 0.5, (\"v\", \"a\"): 0.5}\n",
        "env = AnnubesEnv(session=session)\n",
        "env.session"
      ]
    },
    {
      "cell_type": "markdown",
      "metadata": {},
      "source": [
        "This makes it easy, for instance, to instantiate an environment where two modalities are presented together 100% of the time but never in isolation:"
      ]
    },
    {
      "cell_type": "code",
      "execution_count": null,
      "metadata": {},
      "outputs": [],
      "source": [
        "session = {(\"v\", \"a\"): 1}\n",
        "env = AnnubesEnv(session=session)\n",
        "env.session"
      ]
    },
    {
      "cell_type": "code",
      "execution_count": null,
      "metadata": {},
      "outputs": [],
      "source": [
        "fig = ngym.utils.plot_env(\n",
        "    env,\n",
        "    ob_traces=[\"fixation\", \"start\", \"a\", \"v\"],\n",
        "    num_trials=30,\n",
        ")"
      ]
    },
    {
      "cell_type": "markdown",
      "metadata": {},
      "source": [
        "Another point to consider is that the probabilities in the `session` dictionary don't have to add up to 1 since they are normalised upon instantiation. As a side effect if you specify a single entry in the `session` dictionary, that entry will appear in 100% of the non-catch trials, regardless of the probability assigned (as long as it is not 0) since the probability of that entry will end up being normalised to 1, as illustrated below:"
      ]
    },
    {
      "cell_type": "code",
      "execution_count": null,
      "metadata": {},
      "outputs": [],
      "source": [
        "# It doesn't matter what probability we set for 'v', as long as it is not 0\n",
        "session1 = {\"v\": 0.5}\n",
        "session2 = {\"v\": 0.1}\n",
        "env1 = AnnubesEnv(session=session1)\n",
        "env2 = AnnubesEnv(session=session2)\n",
        "env1.session, env2.session"
      ]
    },
    {
      "cell_type": "markdown",
      "metadata": {},
      "source": [
        "On that note, an error is raised if the probabilities in the `session` dictionary add up to 0:"
      ]
    },
    {
      "cell_type": "code",
      "execution_count": null,
      "metadata": {},
      "outputs": [],
      "source": [
        "try:\n",
        "    session = {\"v\": 0.0, \"a\": 0.0}\n",
        "    env = AnnubesEnv(session=session)\n",
        "except ValueError as e:\n",
        "    print(f\"Expected error raised: {e}\")"
      ]
    },
    {
      "cell_type": "markdown",
      "metadata": {},
      "source": [
        "As a final remark, it is also possible to restrict the number of sequential presentations of any modality by using the `max_sequential` argument. It can be an integer or a dictionary, where an integer is interpreted as a global limit applying to all modalities, whereas a dictionary gives more fine-grained control:"
      ]
    },
    {
      "cell_type": "code",
      "execution_count": null,
      "metadata": {},
      "outputs": [],
      "source": [
        "session = {\"v\": 0.5, \"a\": 0.5}\n",
        "max_sequential = 2\n",
        "env = AnnubesEnv(session=session, max_sequential=max_sequential)\n",
        "env.session"
      ]
    },
    {
      "cell_type": "code",
      "execution_count": null,
      "metadata": {},
      "outputs": [],
      "source": [
        "fig = ngym.utils.plot_env(\n",
        "    env,\n",
        "    ob_traces=[\"fixation\", \"start\", \"a\", \"v\"],\n",
        "    num_trials=30,\n",
        ")"
      ]
    },
    {
      "cell_type": "code",
      "execution_count": null,
      "metadata": {},
      "outputs": [],
      "source": [
        "session = {\"v\": 0.5, \"a\": 0.5}\n",
        "max_sequential = {\"v\": 1, \"a\": 3}\n",
        "env = AnnubesEnv(session=session, max_sequential=max_sequential)\n",
        "env.session"
      ]
    },
    {
      "cell_type": "code",
      "execution_count": null,
      "metadata": {},
      "outputs": [],
      "source": [
        "fig = ngym.utils.plot_env(\n",
        "    env,\n",
        "    ob_traces=[\"fixation\", \"start\", \"a\", \"v\"],\n",
        "    num_trials=30,\n",
        ")"
      ]
    },
    {
      "cell_type": "markdown",
      "metadata": {},
      "source": [
        "The environment also checks if the requested `max_sequential` condition is satisfiable. For instance, an error is raised if the probability of a catch trial is 0 and the probability of one or more modalities is 1 but with an imposed `max_sequential` limit:"
      ]
    },
    {
      "cell_type": "code",
      "execution_count": null,
      "metadata": {},
      "outputs": [],
      "source": [
        "try:\n",
        "    # Here, the probability of 'v' is in fact 1 because it appears in all entries of the session dictionary\n",
        "    session = {\"v\": 0.5, (\"a\", \"v\"): 0.5}\n",
        "\n",
        "    # Impose a global limit on sequential presentations of the same stimulus.\n",
        "    max_sequential = 5\n",
        "\n",
        "    # Ensure that there are no catch trials\n",
        "    catch_prob = 0.0\n",
        "    env = AnnubesEnv(session=session, catch_prob = catch_prob, max_sequential=max_sequential)\n",
        "except ValueError as e:\n",
        "    print(f\"Expected error raised: {e}\")"
      ]
    },
    {
      "cell_type": "markdown",
      "metadata": {},
      "source": [
        "Removing the limit eliminates the error:"
      ]
    },
    {
      "cell_type": "code",
      "execution_count": null,
      "metadata": {},
      "outputs": [],
      "source": [
        "# Here, the probability of 'v' is in fact 1 because it appears in all entries of the session dictionary\n",
        "session = {\"v\": 0.5, (\"a\", \"v\"): 0.5}\n",
        "\n",
        "# Ensure that there are no catch trials\n",
        "catch_prob = 0.0\n",
        "env = AnnubesEnv(\n",
        "    session=session, catch_prob=catch_prob\n",
        ")\n",
        "\n",
        "# This works...\n",
        "env.session"
      ]
    },
    {
      "cell_type": "code",
      "execution_count": null,
      "metadata": {},
      "outputs": [],
      "source": [
        "fig = ngym.utils.plot_env(\n",
        "    env,\n",
        "    ob_traces=[\"fixation\", \"start\", \"a\", \"v\"],\n",
        "    num_trials=30,\n",
        ")"
      ]
    },
    {
      "cell_type": "markdown",
      "metadata": {},
      "source": [
        "## Training `AnnubesEnv`\n",
        "\n",
        "### 1. Regular training\n",
        "\n",
        "We can train `AnnubesEnv` using one of the models defined in `stable_baselines3`, for example [`A2C`](https://stable-baselines3.readthedocs.io/en/master/modules/a2c.html).\n"
      ]
    },
    {
      "cell_type": "code",
      "execution_count": null,
      "metadata": {},
      "outputs": [],
      "source": [
        "# Instantiate a default environment and train an agent on it.\n",
        "env = AnnubesEnv()\n",
        "env_vec = DummyVecEnv([lambda: env])\n",
        "model = A2C(\"MlpPolicy\", env_vec, verbose=0)\n",
        "model.learn(total_timesteps=20000, log_interval=1000)\n",
        "env_vec.close()\n",
        "\n",
        "# Plot example trials with the trained agent\n",
        "data = ngym.utils.plot_env(\n",
        "    env, num_trials=10, ob_traces=[\"fixation\", \"start\", \"a\", \"v\"], model=model\n",
        ")"
      ]
    },
    {
      "cell_type": "markdown",
      "metadata": {},
      "source": [
        "### 2. Sequential training\n",
        "\n",
        "We can also train `AnnubesEnv` using a sequential training approach. This is useful when we want to train the agent in multiple stages, each with a different environment configuration. This can be useful for:\n",
        "\n",
        "- **Curriculum learning**: Gradually increase the difficulty of the environments. Start with simpler tasks and progressively move to more complex ones, allowing the agent to build on its previous experiences.\n",
        "\n",
        "- **Domain randomization**: Vary the environment dynamics (e.g., physics, obstacles) during training to improve the agent's robustness to changes in the environment.\n",
        "\n",
        "- **Transfer learning**: If you have access to different agents or architectures, you can use transfer learning techniques to fine-tune the model on a new environment.\n",
        "\n",
        "In this case it is important to include all the possible observations in each environment, even if not all of them are used. This is because the model is initialized with the first environment's observation space and it is not possible to change it later.\n"
      ]
    },
    {
      "cell_type": "code",
      "execution_count": null,
      "metadata": {},
      "outputs": [],
      "source": [
        "env1 = AnnubesEnv({\"v\": 1, \"a\": 0})\n",
        "env1_vec = DummyVecEnv([lambda: env1])\n",
        "\n",
        "# Create a model and train it with the first environment\n",
        "model = A2C(\"MlpPolicy\", env1_vec, verbose=0)\n",
        "model.learn(total_timesteps=10000)\n",
        "env1_vec.close()\n",
        "\n",
        "# Plot example trials with the trained agent\n",
        "data = ngym.utils.plot_env(\n",
        "    env1,\n",
        "    num_trials=10,\n",
        "    ob_traces=[\"fixation\", \"start\", \"a\", \"v\"],\n",
        "    model=model,\n",
        ")"
      ]
    },
    {
      "cell_type": "code",
      "execution_count": null,
      "metadata": {},
      "outputs": [],
      "source": [
        "# Switch to the second environment and continue training\n",
        "env2 = AnnubesEnv({\"v\": 0, \"a\": 1})\n",
        "env2_vec = DummyVecEnv([lambda: env2])\n",
        "\n",
        "# Set the model's environment to the new environment\n",
        "model.set_env(env2_vec)\n",
        "model.learn(total_timesteps=10000)\n",
        "env2_vec.close()\n",
        "\n",
        "# Plot example trials with the trained agent\n",
        "data = ngym.utils.plot_env(\n",
        "    env2,\n",
        "    num_trials=10,\n",
        "    ob_traces=[\"fixation\", \"start\", \"a\", \"v\"],\n",
        "    model=model,\n",
        ")"
      ]
    },
    {
      "cell_type": "code",
      "execution_count": null,
      "metadata": {},
      "outputs": [],
      "source": [
        "# Switch to the third environment and finish training\n",
        "env3 = AnnubesEnv({\"v\": 0.5, \"a\": 0.5})\n",
        "env3_vec = DummyVecEnv([lambda: env3])\n",
        "\n",
        "# Set the model's environment to the new environment\n",
        "model.set_env(env3_vec)\n",
        "model.learn(total_timesteps=20000)\n",
        "env3_vec.close()\n",
        "\n",
        "# Plot example trials with the trained agent\n",
        "data = ngym.utils.plot_env(\n",
        "    env3, num_trials=10, ob_traces=[\"fixation\", \"start\", \"a\", \"v\"], model=model\n",
        ")"
      ]
    },
    {
      "cell_type": "code",
      "execution_count": null,
      "metadata": {},
      "outputs": [],
      "source": [
        "# Save the final model after all training\n",
        "model.save(\"final_model\")"
      ]
    }
  ],
  "metadata": {
    "kernelspec": {
      "display_name": "neurogym",
      "language": "python",
      "name": "python3"
    },
    "language_info": {
      "codemirror_mode": {
        "name": "ipython",
        "version": 3
      },
      "file_extension": ".py",
      "mimetype": "text/x-python",
      "name": "python",
      "nbconvert_exporter": "python",
      "pygments_lexer": "ipython3",
      "version": "3.12.8"
    }
  },
  "nbformat": 4,
  "nbformat_minor": 2
}
