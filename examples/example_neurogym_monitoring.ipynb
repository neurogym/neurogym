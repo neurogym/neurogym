{
 "cells": [
  {
   "cell_type": "markdown",
   "metadata": {
    "colab_type": "text",
    "heading_collapsed": true,
    "id": "4zW6CU8F69Zp"
   },
   "source": [
    "## Reinforcement learning example with stable-baselines3"
   ]
  },
  {
   "cell_type": "markdown",
   "metadata": {
    "colab_type": "text",
    "hidden": true,
    "id": "xIE7qx_a7D0e"
   },
   "source": [
    "[![Open In Colab](https://colab.research.google.com/assets/colab-badge.svg)](https://colab.research.google.com/github/neurogym/neurogym/blob/master/examples/example_neurogym_rl.ipynb)\n",
    "\n",
    "NeuroGym is a toolkit that allows training any network model on many established neuroscience tasks techniques such as standard Supervised  Learning or Reinforcement Learning (RL). In this notebook we will use RL to train an LSTM network on the classical Random Dots Motion (RDM) task (Britten et al. 1992).\n",
    "\n",
    "We first show how to install the relevant toolboxes. We then show how build the task of interest (in the example the RDM task), wrapp it with the pass-reward wrapper in one line and visualize the structure of the final task. Finally we train an LSTM network on the task using the A2C algorithm [Mnih et al. 2016](https://arxiv.org/abs/1602.01783) implemented in the [stable-baselines3](https://stable-baselines3.readthedocs.io/en/master/) toolbox, and plot the results.\n",
    "\n",
    "It is straightforward to change the code to train a network on any other available task or using a different RL algorithm (e.g. ACER, PPO2).\n"
   ]
  },
  {
   "cell_type": "markdown",
   "metadata": {
    "colab_type": "text",
    "id": "jzF5leN1R2xU"
   },
   "source": [
    "### Task"
   ]
  },
  {
   "cell_type": "markdown",
   "metadata": {
    "colab_type": "text",
    "id": "1vb3YFfIoOA4"
   },
   "source": [
    "here we build the Random Dots Motion task, specifying the duration of each trial period (fixation, stimulus, decision) and wrapp it with the pass-reward wrapper which appends the previous reward to the observation. We then plot the structure of the task in a figure that shows: \n",
    "1. The observations received by the agent (top panel). \n",
    "2. The actions taken by a random agent and the correct action at each timestep (second panel).\n",
    "3. The rewards provided by the environment at each timestep (third panel).\n",
    "4. The performance of the agent at each trial (bottom panel).\n",
    "\n",
    "\n"
   ]
  },
  {
   "cell_type": "code",
   "execution_count": 1,
   "metadata": {
    "colab": {
     "base_uri": "https://localhost:8080/",
     "height": 1000
    },
    "colab_type": "code",
    "id": "RaH9CcJdHY5G",
    "outputId": "25cc6eaa-0531-4e53-df94-c8fe3979aaf0"
   },
   "outputs": [
    {
     "name": "stdout",
     "output_type": "stream",
     "text": [
      "\u001b[35mNeurogym\u001b[0m | \u001b[36m2025-01-28@13:20:48\u001b[0m | \u001b[1mLogger configured.\u001b[0m\n",
      "{'fixation': 500, 'stimulus': 1000, 'iti': 0}\n",
      "----------------\n",
      "Box(0.0, 1.0, (4,), float32)\n",
      "{'fixation': 0, 'start': 1, 'v': 2, 'a': 3}\n",
      "----------------\n",
      "Discrete(2)\n",
      "{'fixation': 0, 'choice': [1]}\n"
     ]
    }
   ],
   "source": [
    "import warnings\n",
    "warnings.filterwarnings(\"default\")\n",
    "\n",
    "import numpy as np\n",
    "\n",
    "from stable_baselines3.common.env_checker import check_env\n",
    "from stable_baselines3.common.evaluation import evaluate_policy\n",
    "from stable_baselines3.common.policies import ActorCriticPolicy\n",
    "from stable_baselines3 import A2C  # ACER, PPO2\n",
    "\n",
    "import neurogym as ngym\n",
    "from neurogym.envs.annubes import AnnubesEnv\n",
    "from neurogym.wrappers.monitor import Monitor\n",
    "from neurogym.config.components.monitor import NetParam\n",
    "\n",
    "# Time step duration in ms\n",
    "dt = 10\n",
    "\n",
    "train_env = AnnubesEnv(dt=dt)\n",
    "\n",
    "# check the custom environment and output additional warnings (if any)\n",
    "check_env(train_env)\n",
    "\n",
    "# check the environment with a random agent\n",
    "obs, info = train_env.reset()\n",
    "n_steps = 10\n",
    "for _ in range(n_steps):\n",
    "    # random action\n",
    "    action = train_env.action_space.sample()\n",
    "    obs, reward, terminated, truncated, info = train_env.step(action)\n",
    "    if terminated:\n",
    "        obs, info = train_env.reset()\n",
    "\n",
    "print(train_env.timing)\n",
    "print(\"----------------\")\n",
    "print(train_env.observation_space)\n",
    "print(train_env.observation_space.name)\n",
    "print(\"----------------\")\n",
    "print(train_env.action_space)\n",
    "print(train_env.action_space.name)"
   ]
  },
  {
   "cell_type": "markdown",
   "metadata": {},
   "source": [
    "Make sure that the step is correctly registered"
   ]
  },
  {
   "cell_type": "code",
   "execution_count": 2,
   "metadata": {},
   "outputs": [
    {
     "data": {
      "text/plain": [
       "10"
      ]
     },
     "execution_count": 2,
     "metadata": {},
     "output_type": "execute_result"
    }
   ],
   "source": [
    "train_env.dt"
   ]
  },
  {
   "cell_type": "markdown",
   "metadata": {
    "colab_type": "text",
    "id": "OCFMPbzX38Wj"
   },
   "source": [
    "### Train a network"
   ]
  },
  {
   "cell_type": "code",
   "execution_count": 3,
   "metadata": {},
   "outputs": [
    {
     "name": "stdout",
     "output_type": "stream",
     "text": [
      "==[ Step   0 ] obs: [0. 0. 0. 0.] | action: 0 | reward: 0 | info: {'new_trial': False, 'gt': 0}\n",
      "==[ Step   1 ] obs: [0. 0. 0. 0.] | action: 1 | reward: -0.1 | info: {'new_trial': False, 'gt': 0}\n",
      "==[ Step   2 ] obs: [0. 0. 0. 0.] | action: 1 | reward: -0.1 | info: {'new_trial': False, 'gt': 0}\n",
      "==[ Step   3 ] obs: [0. 0. 0. 0.] | action: 1 | reward: -0.1 | info: {'new_trial': False, 'gt': 0}\n",
      "==[ Step   4 ] obs: [0. 0. 0. 0.] | action: 2 | reward: -0.1 | info: {'new_trial': False, 'gt': 0}\n",
      "==[ Step   5 ] obs: [0. 0. 0. 0.] | action: 1 | reward: -0.1 | info: {'new_trial': False, 'gt': 0}\n",
      "==[ Step   6 ] obs: [0. 0. 0. 0.] | action: 0 | reward: 0 | info: {'new_trial': False, 'gt': 0}\n",
      "==[ Step   7 ] obs: [0. 0. 0. 0.] | action: 2 | reward: -0.1 | info: {'new_trial': False, 'gt': 0}\n",
      "==[ Step   8 ] obs: [0. 0. 0. 0.] | action: 1 | reward: -0.1 | info: {'new_trial': False, 'gt': 0}\n",
      "==[ Step   9 ] obs: [0. 0. 0. 0.] | action: 0 | reward: 0 | info: {'new_trial': False, 'gt': 0}\n",
      "==[ Step  10 ] obs: [0. 0. 0. 0.] | action: 2 | reward: -0.1 | info: {'new_trial': False, 'gt': 0}\n",
      "==[ Step  11 ] obs: [0. 0. 0. 0.] | action: 0 | reward: 0 | info: {'new_trial': False, 'gt': 0}\n",
      "==[ Step  12 ] obs: [0. 0. 0. 0.] | action: 1 | reward: -0.1 | info: {'new_trial': False, 'gt': 0}\n",
      "==[ Step  13 ] obs: [0. 0. 0. 0.] | action: 2 | reward: -0.1 | info: {'new_trial': False, 'gt': 0}\n",
      "==[ Step  14 ] obs: [0. 0. 0. 0.] | action: 2 | reward: -0.1 | info: {'new_trial': False, 'gt': 0}\n",
      "==[ Step  15 ] obs: [0. 0. 0. 0.] | action: 2 | reward: -0.1 | info: {'new_trial': False, 'gt': 0}\n",
      "==[ Step  16 ] obs: [0. 0. 0. 0.] | action: 2 | reward: -0.1 | info: {'new_trial': False, 'gt': 0}\n",
      "==[ Step  17 ] obs: [0. 0. 0. 0.] | action: 0 | reward: 0 | info: {'new_trial': False, 'gt': 0}\n",
      "==[ Step  18 ] obs: [0. 0. 0. 0.] | action: 1 | reward: -0.1 | info: {'new_trial': False, 'gt': 0}\n",
      "==[ Step  19 ] obs: [0. 0. 0. 0.] | action: 2 | reward: -0.1 | info: {'new_trial': False, 'gt': 0}\n",
      "==[ Step  20 ] obs: [0. 0. 0. 0.] | action: 0 | reward: 0 | info: {'new_trial': False, 'gt': 0}\n",
      "==[ Step  21 ] obs: [0. 0. 0. 0.] | action: 2 | reward: -0.1 | info: {'new_trial': False, 'gt': 0}\n",
      "==[ Step  22 ] obs: [0. 0. 0. 0.] | action: 2 | reward: -0.1 | info: {'new_trial': False, 'gt': 0}\n",
      "==[ Step  23 ] obs: [0. 0. 0. 0.] | action: 2 | reward: -0.1 | info: {'new_trial': False, 'gt': 0}\n",
      "==[ Step  24 ] obs: [0. 0. 0. 0.] | action: 2 | reward: -0.1 | info: {'new_trial': False, 'gt': 0}\n",
      "==[ Step  25 ] obs: [0. 0. 0. 0.] | action: 2 | reward: -0.1 | info: {'new_trial': False, 'gt': 0}\n",
      "==[ Step  26 ] obs: [0. 0. 0. 0.] | action: 2 | reward: -0.1 | info: {'new_trial': False, 'gt': 0}\n",
      "==[ Step  27 ] obs: [0. 0. 0. 0.] | action: 0 | reward: 0 | info: {'new_trial': False, 'gt': 0}\n",
      "==[ Step  28 ] obs: [0. 0. 0. 0.] | action: 1 | reward: -0.1 | info: {'new_trial': False, 'gt': 0}\n",
      "==[ Step  29 ] obs: [0. 0. 0. 0.] | action: 2 | reward: -0.1 | info: {'new_trial': False, 'gt': 0}\n",
      "==[ Step  30 ] obs: [0. 0. 0. 0.] | action: 0 | reward: 0 | info: {'new_trial': False, 'gt': 0}\n",
      "==[ Step  31 ] obs: [0. 0. 0. 0.] | action: 2 | reward: -0.1 | info: {'new_trial': False, 'gt': 0}\n",
      "==[ Step  32 ] obs: [0. 0. 0. 0.] | action: 0 | reward: 0 | info: {'new_trial': False, 'gt': 0}\n",
      "==[ Step  33 ] obs: [0. 0. 0. 0.] | action: 1 | reward: -0.1 | info: {'new_trial': False, 'gt': 0}\n",
      "==[ Step  34 ] obs: [0. 0. 0. 0.] | action: 1 | reward: -0.1 | info: {'new_trial': False, 'gt': 0}\n",
      "==[ Step  35 ] obs: [0. 0. 0. 0.] | action: 2 | reward: -0.1 | info: {'new_trial': False, 'gt': 0}\n",
      "==[ Step  36 ] obs: [0. 0. 0. 0.] | action: 0 | reward: 0 | info: {'new_trial': False, 'gt': 0}\n",
      "==[ Step  37 ] obs: [0. 0. 0. 0.] | action: 0 | reward: 0 | info: {'new_trial': False, 'gt': 0}\n",
      "==[ Step  38 ] obs: [0.        1.        0.        0.6803504] | action: 1 | reward: -0.1 | info: {'new_trial': False, 'gt': 0}\n",
      "==[ Step  39 ] obs: [0.         1.         0.         0.75807834] | action: 2 | reward: 0.0 | info: {'new_trial': False, 'gt': 1}\n",
      "==[ Step  40 ] obs: [0.        1.        0.        0.8044272] | action: 0 | reward: 0.0 | info: {'new_trial': False, 'gt': 1}\n",
      "==[ Step  41 ] obs: [0.         1.         0.         0.80280143] | action: 1 | reward: 1.0 | info: {'new_trial': False, 'gt': 1}\n",
      "==[ Step  42 ] obs: [0.        1.        0.        0.7873215] | action: 1 | reward: 1.0 | info: {'new_trial': False, 'gt': 1}\n",
      "==[ Step  43 ] obs: [0.         1.         0.         0.76107156] | action: 1 | reward: 1.0 | info: {'new_trial': False, 'gt': 1}\n",
      "==[ Step  44 ] obs: [0.        1.        0.        0.7993126] | action: 1 | reward: 1.0 | info: {'new_trial': False, 'gt': 1}\n",
      "==[ Step  45 ] obs: [0.         1.         0.         0.79270077] | action: 1 | reward: 1.0 | info: {'new_trial': False, 'gt': 1}\n",
      "==[ Step  46 ] obs: [0.        1.        0.        0.8080193] | action: 1 | reward: 1.0 | info: {'new_trial': False, 'gt': 1}\n",
      "==[ Step  47 ] obs: [0.       1.       0.       0.796118] | action: 0 | reward: 0.0 | info: {'new_trial': False, 'gt': 1}\n",
      "==[ Step  48 ] obs: [0.         1.         0.         0.73843443] | action: 0 | reward: 0.0 | info: {'new_trial': False, 'gt': 1}\n",
      "==[ Step  49 ] obs: [0.        1.        0.        0.8155941] | action: 0 | reward: 0.0 | info: {'new_trial': False, 'gt': 1}\n",
      "==[ Step  50 ] obs: [0.         1.         0.         0.75745004] | action: 1 | reward: 1.0 | info: {'new_trial': False, 'gt': 1}\n",
      "==[ Step  51 ] obs: [0.         1.         0.         0.80003256] | action: 0 | reward: 0.0 | info: {'new_trial': False, 'gt': 1}\n",
      "==[ Step  52 ] obs: [0.        1.        0.        0.7733564] | action: 2 | reward: 0.0 | info: {'new_trial': False, 'gt': 1}\n",
      "==[ Step  53 ] obs: [0.         1.         0.         0.87563086] | action: 0 | reward: 0.0 | info: {'new_trial': False, 'gt': 1}\n",
      "==[ Step  54 ] obs: [0.        1.        0.        0.8107585] | action: 1 | reward: 1.0 | info: {'new_trial': False, 'gt': 1}\n",
      "==[ Step  55 ] obs: [0.       1.       0.       0.837899] | action: 1 | reward: 1.0 | info: {'new_trial': False, 'gt': 1}\n",
      "==[ Step  56 ] obs: [0.        1.        0.        0.7491017] | action: 1 | reward: 1.0 | info: {'new_trial': False, 'gt': 1}\n",
      "==[ Step  57 ] obs: [0.         1.         0.         0.82399505] | action: 2 | reward: 0.0 | info: {'new_trial': False, 'gt': 1}\n",
      "==[ Step  58 ] obs: [0.        1.        0.        0.7735426] | action: 1 | reward: 1.0 | info: {'new_trial': False, 'gt': 1}\n",
      "==[ Step  59 ] obs: [0.        1.        0.        0.7908653] | action: 0 | reward: 0.0 | info: {'new_trial': False, 'gt': 1}\n",
      "==[ Step  60 ] obs: [0.        1.        0.        0.7766127] | action: 1 | reward: 1.0 | info: {'new_trial': False, 'gt': 1}\n",
      "==[ Step  61 ] obs: [0.         1.         0.         0.78360814] | action: 2 | reward: 0.0 | info: {'new_trial': False, 'gt': 1}\n",
      "==[ Step  62 ] obs: [0.       1.       0.       0.843831] | action: 2 | reward: 0.0 | info: {'new_trial': False, 'gt': 1}\n",
      "==[ Step  63 ] obs: [0.        1.        0.        0.8279268] | action: 1 | reward: 1.0 | info: {'new_trial': False, 'gt': 1}\n",
      "==[ Step  64 ] obs: [0.        1.        0.        0.7615777] | action: 2 | reward: 0.0 | info: {'new_trial': False, 'gt': 1}\n",
      "==[ Step  65 ] obs: [0.        1.        0.        0.7358782] | action: 2 | reward: 0.0 | info: {'new_trial': False, 'gt': 1}\n",
      "==[ Step  66 ] obs: [0.         1.         0.         0.78326625] | action: 1 | reward: 1.0 | info: {'new_trial': False, 'gt': 1}\n",
      "==[ Step  67 ] obs: [0.        1.        0.        0.8053938] | action: 1 | reward: 1.0 | info: {'new_trial': False, 'gt': 1}\n",
      "==[ Step  68 ] obs: [0.        1.        0.        0.7758437] | action: 1 | reward: 1.0 | info: {'new_trial': False, 'gt': 1}\n",
      "==[ Step  69 ] obs: [0.         1.         0.         0.84182036] | action: 1 | reward: 1.0 | info: {'new_trial': False, 'gt': 1}\n",
      "==[ Step  70 ] obs: [0.        1.        0.        0.8230957] | action: 2 | reward: 0.0 | info: {'new_trial': False, 'gt': 1}\n",
      "==[ Step  71 ] obs: [0.         1.         0.         0.81434745] | action: 1 | reward: 1.0 | info: {'new_trial': False, 'gt': 1}\n",
      "==[ Step  72 ] obs: [0.        1.        0.        0.7399988] | action: 1 | reward: 1.0 | info: {'new_trial': False, 'gt': 1}\n",
      "==[ Step  73 ] obs: [0.         1.         0.         0.80544496] | action: 1 | reward: 1.0 | info: {'new_trial': False, 'gt': 1}\n",
      "==[ Step  74 ] obs: [0.        1.        0.        0.8406746] | action: 2 | reward: 0.0 | info: {'new_trial': False, 'gt': 1}\n",
      "==[ Step  75 ] obs: [0.        1.        0.        0.7492283] | action: 0 | reward: 0.0 | info: {'new_trial': False, 'gt': 1}\n",
      "==[ Step  76 ] obs: [0.         1.         0.         0.83065623] | action: 0 | reward: 0.0 | info: {'new_trial': False, 'gt': 1}\n",
      "==[ Step  77 ] obs: [0.         1.         0.         0.75923884] | action: 0 | reward: 0.0 | info: {'new_trial': False, 'gt': 1}\n",
      "==[ Step  78 ] obs: [0.        1.        0.        0.8818082] | action: 2 | reward: 0.0 | info: {'new_trial': False, 'gt': 1}\n",
      "==[ Step  79 ] obs: [0.        1.        0.        0.8011885] | action: 2 | reward: 0.0 | info: {'new_trial': False, 'gt': 1}\n",
      "==[ Step  80 ] obs: [0.        1.        0.        0.8063847] | action: 0 | reward: 0.0 | info: {'new_trial': False, 'gt': 1}\n",
      "==[ Step  81 ] obs: [0.        1.        0.        0.7160067] | action: 2 | reward: 0.0 | info: {'new_trial': False, 'gt': 1}\n",
      "==[ Step  82 ] obs: [0.         1.         0.         0.67576236] | action: 1 | reward: 1.0 | info: {'new_trial': False, 'gt': 1}\n",
      "==[ Step  83 ] obs: [0.        1.        0.        0.7772817] | action: 0 | reward: 0.0 | info: {'new_trial': False, 'gt': 1}\n",
      "==[ Step  84 ] obs: [0.       1.       0.       0.763794] | action: 1 | reward: 1.0 | info: {'new_trial': False, 'gt': 1}\n",
      "==[ Step  85 ] obs: [0.        1.        0.        0.8623363] | action: 1 | reward: 1.0 | info: {'new_trial': False, 'gt': 1}\n",
      "==[ Step  86 ] obs: [0.        1.        0.        0.7302963] | action: 0 | reward: 0.0 | info: {'new_trial': False, 'gt': 1}\n",
      "==[ Step  87 ] obs: [0.        1.        0.        0.7671835] | action: 2 | reward: 0.0 | info: {'new_trial': False, 'gt': 1}\n",
      "==[ Step  88 ] obs: [0.        1.        0.        0.8079855] | action: 2 | reward: 0.0 | info: {'new_trial': False, 'gt': 1}\n",
      "==[ Step  89 ] obs: [0.         1.         0.         0.75751555] | action: 0 | reward: 0.0 | info: {'new_trial': False, 'gt': 1}\n",
      "==[ Step  90 ] obs: [0.         1.         0.         0.77522427] | action: 2 | reward: 0.0 | info: {'new_trial': False, 'gt': 1}\n",
      "==[ Step  91 ] obs: [0.         1.         0.         0.73416626] | action: 2 | reward: 0.0 | info: {'new_trial': False, 'gt': 1}\n",
      "==[ Step  92 ] obs: [0.        1.        0.        0.7645495] | action: 1 | reward: 1.0 | info: {'new_trial': False, 'gt': 1}\n",
      "==[ Step  93 ] obs: [0.        1.        0.        0.7679805] | action: 1 | reward: 1.0 | info: {'new_trial': False, 'gt': 1}\n",
      "==[ Step  94 ] obs: [0.         1.         0.         0.74438244] | action: 0 | reward: 0.0 | info: {'new_trial': False, 'gt': 1}\n",
      "==[ Step  95 ] obs: [0.        1.        0.        0.7805315] | action: 2 | reward: 0.0 | info: {'new_trial': False, 'gt': 1}\n",
      "==[ Step  96 ] obs: [0.         1.         0.         0.73032963] | action: 1 | reward: 1.0 | info: {'new_trial': False, 'gt': 1}\n",
      "==[ Step  97 ] obs: [0.        1.        0.        0.8973035] | action: 1 | reward: 1.0 | info: {'new_trial': False, 'gt': 1}\n",
      "==[ Step  98 ] obs: [0.        1.        0.        0.8152644] | action: 1 | reward: 1.0 | info: {'new_trial': False, 'gt': 1}\n",
      "==[ Step  99 ] obs: [0.         1.         0.         0.86937475] | action: 1 | reward: 1.0 | info: {'new_trial': False, 'gt': 1}\n",
      "==[ Step 100 ] obs: [0.        1.        0.        0.8107075] | action: 1 | reward: 1.0 | info: {'new_trial': False, 'gt': 1}\n",
      "==[ Step 101 ] obs: [0.         1.         0.         0.74767685] | action: 0 | reward: 0.0 | info: {'new_trial': False, 'gt': 1}\n",
      "==[ Step 102 ] obs: [0.         1.         0.         0.81147003] | action: 1 | reward: 1.0 | info: {'new_trial': False, 'gt': 1}\n",
      "==[ Step 103 ] obs: [0.         1.         0.         0.72604626] | action: 0 | reward: 0.0 | info: {'new_trial': False, 'gt': 1}\n",
      "==[ Step 104 ] obs: [0.       1.       0.       0.840673] | action: 1 | reward: 1.0 | info: {'new_trial': False, 'gt': 1}\n",
      "==[ Step 105 ] obs: [0.        1.        0.        0.7938446] | action: 1 | reward: 1.0 | info: {'new_trial': False, 'gt': 1}\n",
      "==[ Step 106 ] obs: [0.         1.         0.         0.76580846] | action: 1 | reward: 1.0 | info: {'new_trial': False, 'gt': 1}\n",
      "==[ Step 107 ] obs: [0.        1.        0.        0.7709598] | action: 1 | reward: 1.0 | info: {'new_trial': False, 'gt': 1}\n",
      "==[ Step 108 ] obs: [0.        1.        0.        0.8645066] | action: 1 | reward: 1.0 | info: {'new_trial': False, 'gt': 1}\n",
      "==[ Step 109 ] obs: [0.         1.         0.         0.75157803] | action: 2 | reward: 0.0 | info: {'new_trial': False, 'gt': 1}\n",
      "==[ Step 110 ] obs: [0.        1.        0.        0.7776489] | action: 1 | reward: 1.0 | info: {'new_trial': False, 'gt': 1}\n",
      "==[ Step 111 ] obs: [0.        1.        0.        0.8294676] | action: 2 | reward: 0.0 | info: {'new_trial': False, 'gt': 1}\n",
      "==[ Step 112 ] obs: [0.         1.         0.         0.73413306] | action: 0 | reward: 0.0 | info: {'new_trial': False, 'gt': 1}\n",
      "==[ Step 113 ] obs: [0.         1.         0.         0.82173854] | action: 0 | reward: 0.0 | info: {'new_trial': False, 'gt': 1}\n",
      "==[ Step 114 ] obs: [0.        1.        0.        0.8420836] | action: 1 | reward: 1.0 | info: {'new_trial': False, 'gt': 1}\n",
      "==[ Step 115 ] obs: [0.        1.        0.        0.7200195] | action: 2 | reward: 0.0 | info: {'new_trial': False, 'gt': 1}\n",
      "==[ Step 116 ] obs: [0.        1.        0.        0.7642903] | action: 2 | reward: 0.0 | info: {'new_trial': False, 'gt': 1}\n",
      "==[ Step 117 ] obs: [0.         1.         0.         0.75047094] | action: 1 | reward: 1.0 | info: {'new_trial': False, 'gt': 1}\n",
      "==[ Step 118 ] obs: [0.         1.         0.         0.85659546] | action: 0 | reward: 0.0 | info: {'new_trial': False, 'gt': 1}\n",
      "==[ Step 119 ] obs: [0.        1.        0.        0.8250299] | action: 1 | reward: 1.0 | info: {'new_trial': False, 'gt': 1}\n",
      "==[ Step 120 ] obs: [0.         1.         0.         0.88289833] | action: 2 | reward: 0.0 | info: {'new_trial': False, 'gt': 1}\n",
      "==[ Step 121 ] obs: [0.        1.        0.        0.8509193] | action: 1 | reward: 1.0 | info: {'new_trial': False, 'gt': 1}\n",
      "==[ Step 122 ] obs: [0.        1.        0.        0.7191499] | action: 1 | reward: 1.0 | info: {'new_trial': False, 'gt': 1}\n",
      "==[ Step 123 ] obs: [0.         1.         0.         0.83766663] | action: 1 | reward: 1.0 | info: {'new_trial': False, 'gt': 1}\n",
      "==[ Step 124 ] obs: [0.        1.        0.        0.8472671] | action: 1 | reward: 1.0 | info: {'new_trial': False, 'gt': 1}\n",
      "==[ Step 125 ] obs: [0.         1.         0.         0.79652417] | action: 2 | reward: 0.0 | info: {'new_trial': False, 'gt': 1}\n",
      "==[ Step 126 ] obs: [0.         1.         0.         0.79136664] | action: 1 | reward: 1.0 | info: {'new_trial': False, 'gt': 1}\n",
      "==[ Step 127 ] obs: [0.         1.         0.         0.85604393] | action: 2 | reward: 0.0 | info: {'new_trial': False, 'gt': 1}\n",
      "==[ Step 128 ] obs: [0.        1.        0.        0.7025171] | action: 1 | reward: 1.0 | info: {'new_trial': False, 'gt': 1}\n",
      "==[ Step 129 ] obs: [0.        1.        0.        0.8334959] | action: 1 | reward: 1.0 | info: {'new_trial': False, 'gt': 1}\n",
      "==[ Step 130 ] obs: [0.         1.         0.         0.78073204] | action: 2 | reward: 0.0 | info: {'new_trial': False, 'gt': 1}\n",
      "==[ Step 131 ] obs: [0.        1.        0.        0.7238966] | action: 1 | reward: 1.0 | info: {'new_trial': False, 'gt': 1}\n",
      "==[ Step 132 ] obs: [0.        1.        0.        0.8019717] | action: 2 | reward: 0.0 | info: {'new_trial': False, 'gt': 1}\n",
      "==[ Step 133 ] obs: [0.         1.         0.         0.76659447] | action: 2 | reward: 0.0 | info: {'new_trial': False, 'gt': 1}\n",
      "==[ Step 134 ] obs: [0.        1.        0.        0.7494366] | action: 0 | reward: 0.0 | info: {'new_trial': False, 'gt': 1}\n",
      "==[ Step 135 ] obs: [0.        1.        0.        0.7475567] | action: 0 | reward: 0.0 | info: {'new_trial': False, 'gt': 1}\n",
      "==[ Step 136 ] obs: [0.        1.        0.        0.8505223] | action: 2 | reward: 0.0 | info: {'new_trial': False, 'gt': 1}\n",
      "==[ Step 137 ] obs: [0.        1.        0.        0.8839629] | action: 0 | reward: 0.0 | info: {'new_trial': False, 'gt': 1}\n",
      "==[ Step 138 ] obs: [0. 0. 0. 0.] | action: 0 | reward: 0.0 | info: {'new_trial': True, 'gt': 1, 'trial': {}, 'performance': 1}\n"
     ]
    }
   ],
   "source": [
    "# Quick test to ensure that the agent can reach the decision point.\n",
    "# TODO: Remove this cell.\n",
    "# QUESTION: Isn't there supposed to be a decision period and a \"go\" signal?\n",
    "# QUESTION: Why is the trial *always* terminated at step 138 on the first run and then at step 149 on all subsequent runs?\n",
    "# QUESTION: Is the trial supposed to always run to the end, or can it be terminated whenever the agent makes a choice?\n",
    "\n",
    "step = 0\n",
    "while True:\n",
    "    action = np.random.choice([0, 1, 2], 1)[0]\n",
    "    obs, rew, term, trunc, info = train_env.step(action)\n",
    "    # print(f\"==[ action: {action} | reward: {rew} | gt: {info['trial']['ground_truth']} | coh: {info['trial']['coh']}\")\n",
    "    print(f\"==[ Step {step:>3d} ] obs: {obs} | action: {action} | reward: {rew} | info: {info}\")\n",
    "    if info[\"new_trial\"]:\n",
    "        break\n",
    "\n",
    "    step += 1"
   ]
  },
  {
   "cell_type": "code",
   "execution_count": 4,
   "metadata": {},
   "outputs": [],
   "source": [
    "# Create an environment for evaluation\n",
    "eval_env = AnnubesEnv(dt=dt)\n",
    "\n",
    "total_timesteps = 20000\n",
    "\n",
    "# Optional: PPO2 requires a vectorized environment to run\n",
    "# the env is now wrapped automatically when passing it to the constructor\n",
    "train_env = Monitor(train_env, name = \"Training\")\n",
    "eval_env = Monitor(eval_env, name=\"Inference\")\n",
    "\n",
    "model = A2C(ActorCriticPolicy, train_env)"
   ]
  },
  {
   "cell_type": "markdown",
   "metadata": {},
   "source": [
    "### Train the agent\n",
    "\n",
    "This calls both the actor and the critic networks, so if the activations of the value net are needed, this is the only opportunity to record them."
   ]
  },
  {
   "cell_type": "code",
   "execution_count": 5,
   "metadata": {},
   "outputs": [
    {
     "name": "stdout",
     "output_type": "stream",
     "text": [
      "\u001b[35mNeurogym\u001b[0m | \u001b[36m2025-01-28@13:20:52\u001b[0m | \u001b[1mTraining | Trial:    10 | Time:     0  / (max     0, total 13410) | Avg. reward: 635.200\u001b[0m\n",
      "\u001b[35mNeurogym\u001b[0m | \u001b[36m2025-01-28@13:20:54\u001b[0m | \u001b[1mTraining | Trial:    20 | Time:     0  / (max     0, total 28310) | Avg. reward: 892.100\u001b[0m\n",
      "\u001b[35mNeurogym\u001b[0m | \u001b[36m2025-01-28@13:20:55\u001b[0m | \u001b[1mTraining | Trial:    30 | Time:     0  / (max     0, total 43210) | Avg. reward: 967.500\u001b[0m\n",
      "\u001b[35mNeurogym\u001b[0m | \u001b[36m2025-01-28@13:20:57\u001b[0m | \u001b[1mTraining | Trial:    40 | Time:     0  / (max     0, total 58110) | Avg. reward: 999.000\u001b[0m\n",
      "\u001b[35mNeurogym\u001b[0m | \u001b[36m2025-01-28@13:20:59\u001b[0m | \u001b[1mTraining | Trial:    50 | Time:     0  / (max     0, total 73010) | Avg. reward: 1000.000\u001b[0m\n",
      "\u001b[35mNeurogym\u001b[0m | \u001b[36m2025-01-28@13:21:00\u001b[0m | \u001b[1mTraining | Trial:    60 | Time:     0  / (max     0, total 87910) | Avg. reward: 1000.000\u001b[0m\n",
      "\u001b[35mNeurogym\u001b[0m | \u001b[36m2025-01-28@13:21:02\u001b[0m | \u001b[1mTraining | Trial:    70 | Time:     0  / (max     0, total 102810) | Avg. reward: 1000.000\u001b[0m\n",
      "\u001b[35mNeurogym\u001b[0m | \u001b[36m2025-01-28@13:21:03\u001b[0m | \u001b[1mTraining | Trial:    80 | Time:     0  / (max     0, total 117710) | Avg. reward: 1000.000\u001b[0m\n",
      "\u001b[35mNeurogym\u001b[0m | \u001b[36m2025-01-28@13:21:05\u001b[0m | \u001b[1mTraining | Trial:    90 | Time:     0  / (max     0, total 132610) | Avg. reward: 1000.000\u001b[0m\n",
      "\u001b[35mNeurogym\u001b[0m | \u001b[36m2025-01-28@13:21:07\u001b[0m | \u001b[1mTraining | Trial:   100 | Time:     0  / (max     0, total 147510) | Avg. reward: 1000.000\u001b[0m\n",
      "\u001b[35mNeurogym\u001b[0m | \u001b[36m2025-01-28@13:21:39\u001b[0m | \u001b[1mTraining | Trial:   110 | Time:     0  / (max     0, total 162410) | Avg. reward: 1000.000\u001b[0m\n",
      "\u001b[35mNeurogym\u001b[0m | \u001b[36m2025-01-28@13:21:41\u001b[0m | \u001b[1mTraining | Trial:   120 | Time:     0  / (max     0, total 177310) | Avg. reward: 1000.000\u001b[0m\n",
      "\u001b[35mNeurogym\u001b[0m | \u001b[36m2025-01-28@13:21:42\u001b[0m | \u001b[1mTraining | Trial:   130 | Time:     0  / (max     0, total 192210) | Avg. reward: 1000.000\u001b[0m\n"
     ]
    },
    {
     "data": {
      "text/plain": [
       "<stable_baselines3.a2c.a2c.A2C at 0x784b587d0da0>"
      ]
     },
     "execution_count": 5,
     "metadata": {},
     "output_type": "execute_result"
    }
   ],
   "source": [
    "model.learn(total_timesteps=total_timesteps)"
   ]
  },
  {
   "cell_type": "markdown",
   "metadata": {},
   "source": [
    "Register the action net and its layers with the evaluation monitor. We are not going to register the value net because the A2C model does not call it during inference."
   ]
  },
  {
   "cell_type": "code",
   "execution_count": 6,
   "metadata": {},
   "outputs": [],
   "source": [
    "anet = model.policy.action_net\n",
    "amon = eval_env.add_model(anet, \"Action net\")\n",
    "for l in anet.modules():\n",
    "    amon.add_layer(l, [NetParam.Activation], \"Linear layer\")"
   ]
  },
  {
   "cell_type": "markdown",
   "metadata": {},
   "source": [
    "Evaluate the agent"
   ]
  },
  {
   "cell_type": "code",
   "execution_count": 7,
   "metadata": {},
   "outputs": [
    {
     "name": "stderr",
     "output_type": "stream",
     "text": [
      "/home/hobbes/.miniconda/envs/neurogym/lib/python3.12/site-packages/stable_baselines3/common/evaluation.py:67: UserWarning: Evaluation environment is not wrapped with a ``Monitor`` wrapper. This may result in reporting modified episode lengths and rewards, if other wrappers happen to modify these. Consider wrapping environment first with ``Monitor`` wrapper.\n",
      "  warnings.warn(\n"
     ]
    },
    {
     "name": "stdout",
     "output_type": "stream",
     "text": [
      "\u001b[35mNeurogym\u001b[0m | \u001b[36m2025-01-28@13:21:44\u001b[0m | \u001b[1mInference | Trial:    10 | Time:     0  / (max     0, total 14900) | Avg. reward: 1000.000\u001b[0m\n"
     ]
    },
    {
     "data": {
      "text/plain": [
       "(100.0, 0.0)"
      ]
     },
     "execution_count": 7,
     "metadata": {},
     "output_type": "execute_result"
    }
   ],
   "source": [
    "evaluate_policy(model, eval_env, n_eval_episodes=10)"
   ]
  },
  {
   "cell_type": "markdown",
   "metadata": {},
   "source": [
    "Plot everything that has been recorded."
   ]
  },
  {
   "cell_type": "code",
   "execution_count": 8,
   "metadata": {},
   "outputs": [
    {
     "data": {
      "text/html": [
       "<script type=\"esms-options\">{\"shimMode\": true}</script><style>*[data-root-id],\n",
       "*[data-root-id] > * {\n",
       "  box-sizing: border-box;\n",
       "  font-family: var(--jp-ui-font-family);\n",
       "  font-size: var(--jp-ui-font-size1);\n",
       "  color: var(--vscode-editor-foreground, var(--jp-ui-font-color1));\n",
       "}\n",
       "\n",
       "/* Override VSCode background color */\n",
       ".cell-output-ipywidget-background:has(\n",
       "    > .cell-output-ipywidget-background > .lm-Widget > *[data-root-id]\n",
       "  ),\n",
       ".cell-output-ipywidget-background:has(> .lm-Widget > *[data-root-id]) {\n",
       "  background-color: transparent !important;\n",
       "}\n",
       "</style>"
      ]
     },
     "metadata": {},
     "output_type": "display_data"
    },
    {
     "data": {
      "application/javascript": "(function(root) {\n  function now() {\n    return new Date();\n  }\n\n  const force = true;\n  const py_version = '3.6.2'.replace('rc', '-rc.').replace('.dev', '-dev.');\n  const reloading = false;\n  const Bokeh = root.Bokeh;\n\n  // Set a timeout for this load but only if we are not already initializing\n  if (typeof (root._bokeh_timeout) === \"undefined\" || (force || !root._bokeh_is_initializing)) {\n    root._bokeh_timeout = Date.now() + 5000;\n    root._bokeh_failed_load = false;\n  }\n\n  function run_callbacks() {\n    try {\n      root._bokeh_onload_callbacks.forEach(function(callback) {\n        if (callback != null)\n          callback();\n      });\n    } finally {\n      delete root._bokeh_onload_callbacks;\n    }\n    console.debug(\"Bokeh: all callbacks have finished\");\n  }\n\n  function load_libs(css_urls, js_urls, js_modules, js_exports, callback) {\n    if (css_urls == null) css_urls = [];\n    if (js_urls == null) js_urls = [];\n    if (js_modules == null) js_modules = [];\n    if (js_exports == null) js_exports = {};\n\n    root._bokeh_onload_callbacks.push(callback);\n\n    if (root._bokeh_is_loading > 0) {\n      // Don't load bokeh if it is still initializing\n      console.debug(\"Bokeh: BokehJS is being loaded, scheduling callback at\", now());\n      return null;\n    } else if (js_urls.length === 0 && js_modules.length === 0 && Object.keys(js_exports).length === 0) {\n      // There is nothing to load\n      run_callbacks();\n      return null;\n    }\n\n    function on_load() {\n      root._bokeh_is_loading--;\n      if (root._bokeh_is_loading === 0) {\n        console.debug(\"Bokeh: all BokehJS libraries/stylesheets loaded\");\n        run_callbacks()\n      }\n    }\n    window._bokeh_on_load = on_load\n\n    function on_error(e) {\n      const src_el = e.srcElement\n      console.error(\"failed to load \" + (src_el.href || src_el.src));\n    }\n\n    const skip = [];\n    if (window.requirejs) {\n      window.requirejs.config({'packages': {}, 'paths': {}, 'shim': {}});\n      root._bokeh_is_loading = css_urls.length + 0;\n    } else {\n      root._bokeh_is_loading = css_urls.length + js_urls.length + js_modules.length + Object.keys(js_exports).length;\n    }\n\n    const existing_stylesheets = []\n    const links = document.getElementsByTagName('link')\n    for (let i = 0; i < links.length; i++) {\n      const link = links[i]\n      if (link.href != null) {\n        existing_stylesheets.push(link.href)\n      }\n    }\n    for (let i = 0; i < css_urls.length; i++) {\n      const url = css_urls[i];\n      const escaped = encodeURI(url)\n      if (existing_stylesheets.indexOf(escaped) !== -1) {\n        on_load()\n        continue;\n      }\n      const element = document.createElement(\"link\");\n      element.onload = on_load;\n      element.onerror = on_error;\n      element.rel = \"stylesheet\";\n      element.type = \"text/css\";\n      element.href = url;\n      console.debug(\"Bokeh: injecting link tag for BokehJS stylesheet: \", url);\n      document.body.appendChild(element);\n    }    var existing_scripts = []\n    const scripts = document.getElementsByTagName('script')\n    for (let i = 0; i < scripts.length; i++) {\n      var script = scripts[i]\n      if (script.src != null) {\n        existing_scripts.push(script.src)\n      }\n    }\n    for (let i = 0; i < js_urls.length; i++) {\n      const url = js_urls[i];\n      const escaped = encodeURI(url)\n      if (skip.indexOf(escaped) !== -1 || existing_scripts.indexOf(escaped) !== -1) {\n        if (!window.requirejs) {\n          on_load();\n        }\n        continue;\n      }\n      const element = document.createElement('script');\n      element.onload = on_load;\n      element.onerror = on_error;\n      element.async = false;\n      element.src = url;\n      console.debug(\"Bokeh: injecting script tag for BokehJS library: \", url);\n      document.head.appendChild(element);\n    }\n    for (let i = 0; i < js_modules.length; i++) {\n      const url = js_modules[i];\n      const escaped = encodeURI(url)\n      if (skip.indexOf(escaped) !== -1 || existing_scripts.indexOf(escaped) !== -1) {\n        if (!window.requirejs) {\n          on_load();\n        }\n        continue;\n      }\n      var element = document.createElement('script');\n      element.onload = on_load;\n      element.onerror = on_error;\n      element.async = false;\n      element.src = url;\n      element.type = \"module\";\n      console.debug(\"Bokeh: injecting script tag for BokehJS library: \", url);\n      document.head.appendChild(element);\n    }\n    for (const name in js_exports) {\n      const url = js_exports[name];\n      const escaped = encodeURI(url)\n      if (skip.indexOf(escaped) >= 0 || root[name] != null) {\n        if (!window.requirejs) {\n          on_load();\n        }\n        continue;\n      }\n      var element = document.createElement('script');\n      element.onerror = on_error;\n      element.async = false;\n      element.type = \"module\";\n      console.debug(\"Bokeh: injecting script tag for BokehJS library: \", url);\n      element.textContent = `\n      import ${name} from \"${url}\"\n      window.${name} = ${name}\n      window._bokeh_on_load()\n      `\n      document.head.appendChild(element);\n    }\n    if (!js_urls.length && !js_modules.length) {\n      on_load()\n    }\n  };\n\n  function inject_raw_css(css) {\n    const element = document.createElement(\"style\");\n    element.appendChild(document.createTextNode(css));\n    document.body.appendChild(element);\n  }\n\n  const js_urls = [\"https://cdn.holoviz.org/panel/1.5.5/dist/bundled/reactiveesm/es-module-shims@^1.10.0/dist/es-module-shims.min.js\", \"https://cdn.bokeh.org/bokeh/release/bokeh-3.6.2.min.js\", \"https://cdn.bokeh.org/bokeh/release/bokeh-gl-3.6.2.min.js\", \"https://cdn.bokeh.org/bokeh/release/bokeh-widgets-3.6.2.min.js\", \"https://cdn.bokeh.org/bokeh/release/bokeh-tables-3.6.2.min.js\", \"https://cdn.holoviz.org/panel/1.5.5/dist/panel.min.js\"];\n  const js_modules = [];\n  const js_exports = {};\n  const css_urls = [];\n  const inline_js = [    function(Bokeh) {\n      Bokeh.set_log_level(\"info\");\n    },\nfunction(Bokeh) {} // ensure no trailing comma for IE\n  ];\n\n  function run_inline_js() {\n    if ((root.Bokeh !== undefined) || (force === true)) {\n      for (let i = 0; i < inline_js.length; i++) {\n        try {\n          inline_js[i].call(root, root.Bokeh);\n        } catch(e) {\n          if (!reloading) {\n            throw e;\n          }\n        }\n      }\n      // Cache old bokeh versions\n      if (Bokeh != undefined && !reloading) {\n        var NewBokeh = root.Bokeh;\n        if (Bokeh.versions === undefined) {\n          Bokeh.versions = new Map();\n        }\n        if (NewBokeh.version !== Bokeh.version) {\n          Bokeh.versions.set(NewBokeh.version, NewBokeh)\n        }\n        root.Bokeh = Bokeh;\n      }\n    } else if (Date.now() < root._bokeh_timeout) {\n      setTimeout(run_inline_js, 100);\n    } else if (!root._bokeh_failed_load) {\n      console.log(\"Bokeh: BokehJS failed to load within specified timeout.\");\n      root._bokeh_failed_load = true;\n    }\n    root._bokeh_is_initializing = false\n  }\n\n  function load_or_wait() {\n    // Implement a backoff loop that tries to ensure we do not load multiple\n    // versions of Bokeh and its dependencies at the same time.\n    // In recent versions we use the root._bokeh_is_initializing flag\n    // to determine whether there is an ongoing attempt to initialize\n    // bokeh, however for backward compatibility we also try to ensure\n    // that we do not start loading a newer (Panel>=1.0 and Bokeh>3) version\n    // before older versions are fully initialized.\n    if (root._bokeh_is_initializing && Date.now() > root._bokeh_timeout) {\n      // If the timeout and bokeh was not successfully loaded we reset\n      // everything and try loading again\n      root._bokeh_timeout = Date.now() + 5000;\n      root._bokeh_is_initializing = false;\n      root._bokeh_onload_callbacks = undefined;\n      root._bokeh_is_loading = 0\n      console.log(\"Bokeh: BokehJS was loaded multiple times but one version failed to initialize.\");\n      load_or_wait();\n    } else if (root._bokeh_is_initializing || (typeof root._bokeh_is_initializing === \"undefined\" && root._bokeh_onload_callbacks !== undefined)) {\n      setTimeout(load_or_wait, 100);\n    } else {\n      root._bokeh_is_initializing = true\n      root._bokeh_onload_callbacks = []\n      const bokeh_loaded = root.Bokeh != null && (root.Bokeh.version === py_version || (root.Bokeh.versions !== undefined && root.Bokeh.versions.has(py_version)));\n      if (!reloading && !bokeh_loaded) {\n        if (root.Bokeh) {\n          root.Bokeh = undefined;\n        }\n        console.debug(\"Bokeh: BokehJS not loaded, scheduling load and callback at\", now());\n      }\n      load_libs(css_urls, js_urls, js_modules, js_exports, function() {\n        console.debug(\"Bokeh: BokehJS plotting callback run at\", now());\n        run_inline_js();\n      });\n    }\n  }\n  // Give older versions of the autoload script a head-start to ensure\n  // they initialize before we start loading newer version.\n  setTimeout(load_or_wait, 100)\n}(window));",
      "application/vnd.holoviews_load.v0+json": ""
     },
     "metadata": {},
     "output_type": "display_data"
    },
    {
     "data": {
      "application/javascript": "\nif ((window.PyViz === undefined) || (window.PyViz instanceof HTMLElement)) {\n  window.PyViz = {comms: {}, comm_status:{}, kernels:{}, receivers: {}, plot_index: []}\n}\n\n\n    function JupyterCommManager() {\n    }\n\n    JupyterCommManager.prototype.register_target = function(plot_id, comm_id, msg_handler) {\n      if (window.comm_manager || ((window.Jupyter !== undefined) && (Jupyter.notebook.kernel != null))) {\n        var comm_manager = window.comm_manager || Jupyter.notebook.kernel.comm_manager;\n        comm_manager.register_target(comm_id, function(comm) {\n          comm.on_msg(msg_handler);\n        });\n      } else if ((plot_id in window.PyViz.kernels) && (window.PyViz.kernels[plot_id])) {\n        window.PyViz.kernels[plot_id].registerCommTarget(comm_id, function(comm) {\n          comm.onMsg = msg_handler;\n        });\n      } else if (typeof google != 'undefined' && google.colab.kernel != null) {\n        google.colab.kernel.comms.registerTarget(comm_id, (comm) => {\n          var messages = comm.messages[Symbol.asyncIterator]();\n          function processIteratorResult(result) {\n            var message = result.value;\n            console.log(message)\n            var content = {data: message.data, comm_id};\n            var buffers = []\n            for (var buffer of message.buffers || []) {\n              buffers.push(new DataView(buffer))\n            }\n            var metadata = message.metadata || {};\n            var msg = {content, buffers, metadata}\n            msg_handler(msg);\n            return messages.next().then(processIteratorResult);\n          }\n          return messages.next().then(processIteratorResult);\n        })\n      }\n    }\n\n    JupyterCommManager.prototype.get_client_comm = function(plot_id, comm_id, msg_handler) {\n      if (comm_id in window.PyViz.comms) {\n        return window.PyViz.comms[comm_id];\n      } else if (window.comm_manager || ((window.Jupyter !== undefined) && (Jupyter.notebook.kernel != null))) {\n        var comm_manager = window.comm_manager || Jupyter.notebook.kernel.comm_manager;\n        var comm = comm_manager.new_comm(comm_id, {}, {}, {}, comm_id);\n        if (msg_handler) {\n          comm.on_msg(msg_handler);\n        }\n      } else if ((plot_id in window.PyViz.kernels) && (window.PyViz.kernels[plot_id])) {\n        var comm = window.PyViz.kernels[plot_id].connectToComm(comm_id);\n        comm.open();\n        if (msg_handler) {\n          comm.onMsg = msg_handler;\n        }\n      } else if (typeof google != 'undefined' && google.colab.kernel != null) {\n        var comm_promise = google.colab.kernel.comms.open(comm_id)\n        comm_promise.then((comm) => {\n          window.PyViz.comms[comm_id] = comm;\n          if (msg_handler) {\n            var messages = comm.messages[Symbol.asyncIterator]();\n            function processIteratorResult(result) {\n              var message = result.value;\n              var content = {data: message.data};\n              var metadata = message.metadata || {comm_id};\n              var msg = {content, metadata}\n              msg_handler(msg);\n              return messages.next().then(processIteratorResult);\n            }\n            return messages.next().then(processIteratorResult);\n          }\n        }) \n        var sendClosure = (data, metadata, buffers, disposeOnDone) => {\n          return comm_promise.then((comm) => {\n            comm.send(data, metadata, buffers, disposeOnDone);\n          });\n        };\n        var comm = {\n          send: sendClosure\n        };\n      }\n      window.PyViz.comms[comm_id] = comm;\n      return comm;\n    }\n    window.PyViz.comm_manager = new JupyterCommManager();\n    \n\n\nvar JS_MIME_TYPE = 'application/javascript';\nvar HTML_MIME_TYPE = 'text/html';\nvar EXEC_MIME_TYPE = 'application/vnd.holoviews_exec.v0+json';\nvar CLASS_NAME = 'output';\n\n/**\n * Render data to the DOM node\n */\nfunction render(props, node) {\n  var div = document.createElement(\"div\");\n  var script = document.createElement(\"script\");\n  node.appendChild(div);\n  node.appendChild(script);\n}\n\n/**\n * Handle when a new output is added\n */\nfunction handle_add_output(event, handle) {\n  var output_area = handle.output_area;\n  var output = handle.output;\n  if ((output.data == undefined) || (!output.data.hasOwnProperty(EXEC_MIME_TYPE))) {\n    return\n  }\n  var id = output.metadata[EXEC_MIME_TYPE][\"id\"];\n  var toinsert = output_area.element.find(\".\" + CLASS_NAME.split(' ')[0]);\n  if (id !== undefined) {\n    var nchildren = toinsert.length;\n    var html_node = toinsert[nchildren-1].children[0];\n    html_node.innerHTML = output.data[HTML_MIME_TYPE];\n    var scripts = [];\n    var nodelist = html_node.querySelectorAll(\"script\");\n    for (var i in nodelist) {\n      if (nodelist.hasOwnProperty(i)) {\n        scripts.push(nodelist[i])\n      }\n    }\n\n    scripts.forEach( function (oldScript) {\n      var newScript = document.createElement(\"script\");\n      var attrs = [];\n      var nodemap = oldScript.attributes;\n      for (var j in nodemap) {\n        if (nodemap.hasOwnProperty(j)) {\n          attrs.push(nodemap[j])\n        }\n      }\n      attrs.forEach(function(attr) { newScript.setAttribute(attr.name, attr.value) });\n      newScript.appendChild(document.createTextNode(oldScript.innerHTML));\n      oldScript.parentNode.replaceChild(newScript, oldScript);\n    });\n    if (JS_MIME_TYPE in output.data) {\n      toinsert[nchildren-1].children[1].textContent = output.data[JS_MIME_TYPE];\n    }\n    output_area._hv_plot_id = id;\n    if ((window.Bokeh !== undefined) && (id in Bokeh.index)) {\n      window.PyViz.plot_index[id] = Bokeh.index[id];\n    } else {\n      window.PyViz.plot_index[id] = null;\n    }\n  } else if (output.metadata[EXEC_MIME_TYPE][\"server_id\"] !== undefined) {\n    var bk_div = document.createElement(\"div\");\n    bk_div.innerHTML = output.data[HTML_MIME_TYPE];\n    var script_attrs = bk_div.children[0].attributes;\n    for (var i = 0; i < script_attrs.length; i++) {\n      toinsert[toinsert.length - 1].childNodes[1].setAttribute(script_attrs[i].name, script_attrs[i].value);\n    }\n    // store reference to server id on output_area\n    output_area._bokeh_server_id = output.metadata[EXEC_MIME_TYPE][\"server_id\"];\n  }\n}\n\n/**\n * Handle when an output is cleared or removed\n */\nfunction handle_clear_output(event, handle) {\n  var id = handle.cell.output_area._hv_plot_id;\n  var server_id = handle.cell.output_area._bokeh_server_id;\n  if (((id === undefined) || !(id in PyViz.plot_index)) && (server_id !== undefined)) { return; }\n  var comm = window.PyViz.comm_manager.get_client_comm(\"hv-extension-comm\", \"hv-extension-comm\", function () {});\n  if (server_id !== null) {\n    comm.send({event_type: 'server_delete', 'id': server_id});\n    return;\n  } else if (comm !== null) {\n    comm.send({event_type: 'delete', 'id': id});\n  }\n  delete PyViz.plot_index[id];\n  if ((window.Bokeh !== undefined) & (id in window.Bokeh.index)) {\n    var doc = window.Bokeh.index[id].model.document\n    doc.clear();\n    const i = window.Bokeh.documents.indexOf(doc);\n    if (i > -1) {\n      window.Bokeh.documents.splice(i, 1);\n    }\n  }\n}\n\n/**\n * Handle kernel restart event\n */\nfunction handle_kernel_cleanup(event, handle) {\n  delete PyViz.comms[\"hv-extension-comm\"];\n  window.PyViz.plot_index = {}\n}\n\n/**\n * Handle update_display_data messages\n */\nfunction handle_update_output(event, handle) {\n  handle_clear_output(event, {cell: {output_area: handle.output_area}})\n  handle_add_output(event, handle)\n}\n\nfunction register_renderer(events, OutputArea) {\n  function append_mime(data, metadata, element) {\n    // create a DOM node to render to\n    var toinsert = this.create_output_subarea(\n    metadata,\n    CLASS_NAME,\n    EXEC_MIME_TYPE\n    );\n    this.keyboard_manager.register_events(toinsert);\n    // Render to node\n    var props = {data: data, metadata: metadata[EXEC_MIME_TYPE]};\n    render(props, toinsert[0]);\n    element.append(toinsert);\n    return toinsert\n  }\n\n  events.on('output_added.OutputArea', handle_add_output);\n  events.on('output_updated.OutputArea', handle_update_output);\n  events.on('clear_output.CodeCell', handle_clear_output);\n  events.on('delete.Cell', handle_clear_output);\n  events.on('kernel_ready.Kernel', handle_kernel_cleanup);\n\n  OutputArea.prototype.register_mime_type(EXEC_MIME_TYPE, append_mime, {\n    safe: true,\n    index: 0\n  });\n}\n\nif (window.Jupyter !== undefined) {\n  try {\n    var events = require('base/js/events');\n    var OutputArea = require('notebook/js/outputarea').OutputArea;\n    if (OutputArea.prototype.mime_types().indexOf(EXEC_MIME_TYPE) == -1) {\n      register_renderer(events, OutputArea);\n    }\n  } catch(err) {\n  }\n}\n",
      "application/vnd.holoviews_load.v0+json": ""
     },
     "metadata": {},
     "output_type": "display_data"
    },
    {
     "data": {
      "application/vnd.holoviews_exec.v0+json": "",
      "text/html": [
       "<div id='09366c7a-2ab1-407f-9dfc-932dab88430d'>\n",
       "  <div id=\"f3f7370f-ba09-4aaf-ad2d-c4c3abd823df\" data-root-id=\"09366c7a-2ab1-407f-9dfc-932dab88430d\" style=\"display: contents;\"></div>\n",
       "</div>\n",
       "<script type=\"application/javascript\">(function(root) {\n",
       "  var docs_json = {\"e3e3425f-111c-469c-b44c-08573b5a6bba\":{\"version\":\"3.6.2\",\"title\":\"Bokeh Application\",\"roots\":[{\"type\":\"object\",\"name\":\"panel.models.browser.BrowserInfo\",\"id\":\"09366c7a-2ab1-407f-9dfc-932dab88430d\"},{\"type\":\"object\",\"name\":\"panel.models.comm_manager.CommManager\",\"id\":\"3c008d67-5964-4ad1-ae0d-54c3629ba733\",\"attributes\":{\"plot_id\":\"09366c7a-2ab1-407f-9dfc-932dab88430d\",\"comm_id\":\"044c787aeb534f40baba7d48ab46268c\",\"client_comm_id\":\"844c62d1038e46bca4c041bf5a5a5487\"}}],\"defs\":[{\"type\":\"model\",\"name\":\"ReactiveHTML1\"},{\"type\":\"model\",\"name\":\"FlexBox1\",\"properties\":[{\"name\":\"align_content\",\"kind\":\"Any\",\"default\":\"flex-start\"},{\"name\":\"align_items\",\"kind\":\"Any\",\"default\":\"flex-start\"},{\"name\":\"flex_direction\",\"kind\":\"Any\",\"default\":\"row\"},{\"name\":\"flex_wrap\",\"kind\":\"Any\",\"default\":\"wrap\"},{\"name\":\"gap\",\"kind\":\"Any\",\"default\":\"\"},{\"name\":\"justify_content\",\"kind\":\"Any\",\"default\":\"flex-start\"}]},{\"type\":\"model\",\"name\":\"FloatPanel1\",\"properties\":[{\"name\":\"config\",\"kind\":\"Any\",\"default\":{\"type\":\"map\"}},{\"name\":\"contained\",\"kind\":\"Any\",\"default\":true},{\"name\":\"position\",\"kind\":\"Any\",\"default\":\"right-top\"},{\"name\":\"offsetx\",\"kind\":\"Any\",\"default\":null},{\"name\":\"offsety\",\"kind\":\"Any\",\"default\":null},{\"name\":\"theme\",\"kind\":\"Any\",\"default\":\"primary\"},{\"name\":\"status\",\"kind\":\"Any\",\"default\":\"normalized\"}]},{\"type\":\"model\",\"name\":\"GridStack1\",\"properties\":[{\"name\":\"mode\",\"kind\":\"Any\",\"default\":\"warn\"},{\"name\":\"ncols\",\"kind\":\"Any\",\"default\":null},{\"name\":\"nrows\",\"kind\":\"Any\",\"default\":null},{\"name\":\"allow_resize\",\"kind\":\"Any\",\"default\":true},{\"name\":\"allow_drag\",\"kind\":\"Any\",\"default\":true},{\"name\":\"state\",\"kind\":\"Any\",\"default\":[]}]},{\"type\":\"model\",\"name\":\"drag1\",\"properties\":[{\"name\":\"slider_width\",\"kind\":\"Any\",\"default\":5},{\"name\":\"slider_color\",\"kind\":\"Any\",\"default\":\"black\"},{\"name\":\"value\",\"kind\":\"Any\",\"default\":50}]},{\"type\":\"model\",\"name\":\"click1\",\"properties\":[{\"name\":\"terminal_output\",\"kind\":\"Any\",\"default\":\"\"},{\"name\":\"debug_name\",\"kind\":\"Any\",\"default\":\"\"},{\"name\":\"clears\",\"kind\":\"Any\",\"default\":0}]},{\"type\":\"model\",\"name\":\"FastWrapper1\",\"properties\":[{\"name\":\"object\",\"kind\":\"Any\",\"default\":null},{\"name\":\"style\",\"kind\":\"Any\",\"default\":null}]},{\"type\":\"model\",\"name\":\"NotificationAreaBase1\",\"properties\":[{\"name\":\"js_events\",\"kind\":\"Any\",\"default\":{\"type\":\"map\"}},{\"name\":\"position\",\"kind\":\"Any\",\"default\":\"bottom-right\"},{\"name\":\"_clear\",\"kind\":\"Any\",\"default\":0}]},{\"type\":\"model\",\"name\":\"NotificationArea1\",\"properties\":[{\"name\":\"js_events\",\"kind\":\"Any\",\"default\":{\"type\":\"map\"}},{\"name\":\"notifications\",\"kind\":\"Any\",\"default\":[]},{\"name\":\"position\",\"kind\":\"Any\",\"default\":\"bottom-right\"},{\"name\":\"_clear\",\"kind\":\"Any\",\"default\":0},{\"name\":\"types\",\"kind\":\"Any\",\"default\":[{\"type\":\"map\",\"entries\":[[\"type\",\"warning\"],[\"background\",\"#ffc107\"],[\"icon\",{\"type\":\"map\",\"entries\":[[\"className\",\"fas fa-exclamation-triangle\"],[\"tagName\",\"i\"],[\"color\",\"white\"]]}]]},{\"type\":\"map\",\"entries\":[[\"type\",\"info\"],[\"background\",\"#007bff\"],[\"icon\",{\"type\":\"map\",\"entries\":[[\"className\",\"fas fa-info-circle\"],[\"tagName\",\"i\"],[\"color\",\"white\"]]}]]}]}]},{\"type\":\"model\",\"name\":\"Notification\",\"properties\":[{\"name\":\"background\",\"kind\":\"Any\",\"default\":null},{\"name\":\"duration\",\"kind\":\"Any\",\"default\":3000},{\"name\":\"icon\",\"kind\":\"Any\",\"default\":null},{\"name\":\"message\",\"kind\":\"Any\",\"default\":\"\"},{\"name\":\"notification_type\",\"kind\":\"Any\",\"default\":null},{\"name\":\"_rendered\",\"kind\":\"Any\",\"default\":false},{\"name\":\"_destroyed\",\"kind\":\"Any\",\"default\":false}]},{\"type\":\"model\",\"name\":\"TemplateActions1\",\"properties\":[{\"name\":\"open_modal\",\"kind\":\"Any\",\"default\":0},{\"name\":\"close_modal\",\"kind\":\"Any\",\"default\":0}]},{\"type\":\"model\",\"name\":\"BootstrapTemplateActions1\",\"properties\":[{\"name\":\"open_modal\",\"kind\":\"Any\",\"default\":0},{\"name\":\"close_modal\",\"kind\":\"Any\",\"default\":0}]},{\"type\":\"model\",\"name\":\"TemplateEditor1\",\"properties\":[{\"name\":\"layout\",\"kind\":\"Any\",\"default\":[]}]},{\"type\":\"model\",\"name\":\"MaterialTemplateActions1\",\"properties\":[{\"name\":\"open_modal\",\"kind\":\"Any\",\"default\":0},{\"name\":\"close_modal\",\"kind\":\"Any\",\"default\":0}]},{\"type\":\"model\",\"name\":\"ReactiveESM1\",\"properties\":[{\"name\":\"esm_constants\",\"kind\":\"Any\",\"default\":{\"type\":\"map\"}}]},{\"type\":\"model\",\"name\":\"JSComponent1\",\"properties\":[{\"name\":\"esm_constants\",\"kind\":\"Any\",\"default\":{\"type\":\"map\"}}]},{\"type\":\"model\",\"name\":\"ReactComponent1\",\"properties\":[{\"name\":\"esm_constants\",\"kind\":\"Any\",\"default\":{\"type\":\"map\"}}]},{\"type\":\"model\",\"name\":\"AnyWidgetComponent1\",\"properties\":[{\"name\":\"esm_constants\",\"kind\":\"Any\",\"default\":{\"type\":\"map\"}}]},{\"type\":\"model\",\"name\":\"request_value1\",\"properties\":[{\"name\":\"fill\",\"kind\":\"Any\",\"default\":\"none\"},{\"name\":\"_synced\",\"kind\":\"Any\",\"default\":null},{\"name\":\"_request_sync\",\"kind\":\"Any\",\"default\":0}]}]}};\n",
       "  var render_items = [{\"docid\":\"e3e3425f-111c-469c-b44c-08573b5a6bba\",\"roots\":{\"09366c7a-2ab1-407f-9dfc-932dab88430d\":\"f3f7370f-ba09-4aaf-ad2d-c4c3abd823df\"},\"root_ids\":[\"09366c7a-2ab1-407f-9dfc-932dab88430d\"]}];\n",
       "  var docs = Object.values(docs_json)\n",
       "  if (!docs) {\n",
       "    return\n",
       "  }\n",
       "  const py_version = docs[0].version.replace('rc', '-rc.').replace('.dev', '-dev.')\n",
       "  async function embed_document(root) {\n",
       "    var Bokeh = get_bokeh(root)\n",
       "    await Bokeh.embed.embed_items_notebook(docs_json, render_items);\n",
       "    for (const render_item of render_items) {\n",
       "      for (const root_id of render_item.root_ids) {\n",
       "\tconst id_el = document.getElementById(root_id)\n",
       "\tif (id_el.children.length && id_el.children[0].hasAttribute('data-root-id')) {\n",
       "\t  const root_el = id_el.children[0]\n",
       "\t  root_el.id = root_el.id + '-rendered'\n",
       "\t  for (const child of root_el.children) {\n",
       "            // Ensure JupyterLab does not capture keyboard shortcuts\n",
       "            // see: https://jupyterlab.readthedocs.io/en/4.1.x/extension/notebook.html#keyboard-interaction-model\n",
       "\t    child.setAttribute('data-lm-suppress-shortcuts', 'true')\n",
       "\t  }\n",
       "\t}\n",
       "      }\n",
       "    }\n",
       "  }\n",
       "  function get_bokeh(root) {\n",
       "    if (root.Bokeh === undefined) {\n",
       "      return null\n",
       "    } else if (root.Bokeh.version !== py_version) {\n",
       "      if (root.Bokeh.versions === undefined || !root.Bokeh.versions.has(py_version)) {\n",
       "\treturn null\n",
       "      }\n",
       "      return root.Bokeh.versions.get(py_version);\n",
       "    } else if (root.Bokeh.version === py_version) {\n",
       "      return root.Bokeh\n",
       "    }\n",
       "    return null\n",
       "  }\n",
       "  function is_loaded(root) {\n",
       "    var Bokeh = get_bokeh(root)\n",
       "    return (Bokeh != null && Bokeh.Panel !== undefined)\n",
       "  }\n",
       "  if (is_loaded(root)) {\n",
       "    embed_document(root);\n",
       "  } else {\n",
       "    var attempts = 0;\n",
       "    var timer = setInterval(function(root) {\n",
       "      if (is_loaded(root)) {\n",
       "        clearInterval(timer);\n",
       "        embed_document(root);\n",
       "      } else if (document.readyState == \"complete\") {\n",
       "        attempts++;\n",
       "        if (attempts > 200) {\n",
       "          clearInterval(timer);\n",
       "\t  var Bokeh = get_bokeh(root)\n",
       "\t  if (Bokeh == null || Bokeh.Panel == null) {\n",
       "            console.warn(\"Panel: ERROR: Unable to run Panel code because Bokeh or Panel library is missing\");\n",
       "\t  } else {\n",
       "\t    console.warn(\"Panel: WARNING: Attempting to render but not all required libraries could be resolved.\")\n",
       "\t    embed_document(root)\n",
       "\t  }\n",
       "        }\n",
       "      }\n",
       "    }, 25, root)\n",
       "  }\n",
       "})(window);</script>"
      ]
     },
     "metadata": {
      "application/vnd.holoviews_exec.v0+json": {
       "id": "09366c7a-2ab1-407f-9dfc-932dab88430d"
      }
     },
     "output_type": "display_data"
    },
    {
     "name": "stdout",
     "output_type": "stream",
     "text": [
      "Launching server at http://localhost:35509\n"
     ]
    }
   ],
   "source": [
    "eval_env.plot()"
   ]
  },
  {
   "cell_type": "markdown",
   "metadata": {
    "colab_type": "text",
    "id": "svUQlptJAVv9"
   },
   "source": [
    "Visualize the results"
   ]
  },
  {
   "cell_type": "code",
   "execution_count": 9,
   "metadata": {
    "colab": {
     "base_uri": "https://localhost:8080/",
     "height": 1000
    },
    "colab_type": "code",
    "id": "qPrh-kiI8rbB",
    "outputId": "be1e5cbf-23e0-49ca-8468-a93836888772"
   },
   "outputs": [
    {
     "name": "stdout",
     "output_type": "stream",
     "text": [
      "\u001b[35mNeurogym\u001b[0m | \u001b[36m2025-01-28@13:21:44\u001b[0m | \u001b[1mInference | Trial:    20 | Time:     0  / (max     0, total 29800) | Avg. reward: 1000.000\u001b[0m\n"
     ]
    },
    {
     "name": "stderr",
     "output_type": "stream",
     "text": [
      "/home/hobbes/.miniconda/envs/neurogym/lib/python3.12/site-packages/gymnasium/core.py:311: UserWarning: \u001b[33mWARN: env.rewards to get variables from other wrappers is deprecated and will be removed in v1.0, to get this variable you can do `env.unwrapped.rewards` for environment variables or `env.get_wrapper_attr('rewards')` that will search the reminding wrappers.\u001b[0m\n",
      "  logger.warn(\n"
     ]
    },
    {
     "data": {
      "image/png": "[encoded data removed]",
      "text/plain": [
       "<Figure size 500x480 with 4 Axes>"
      ]
     },
     "metadata": {},
     "output_type": "display_data"
    }
   ],
   "source": [
    "data = ngym.utils.plot_env(\n",
    "    eval_env, num_trials=10, ob_traces=[\"fixation\", \"start\", \"v\", \"a\"], model=model\n",
    ")"
   ]
  },
  {
   "cell_type": "code",
   "execution_count": 10,
   "metadata": {},
   "outputs": [],
   "source": [
    "train_env.close()\n",
    "eval_env.close()"
   ]
  }
 ],
 "metadata": {
  "accelerator": "GPU",
  "colab": {
   "collapsed_sections": [],
   "include_colab_link": true,
   "name": "example_neurogym_rl.ipynb",
   "provenance": []
  },
  "hide_input": false,
  "kernelspec": {
   "display_name": "neurogym",
   "language": "python",
   "name": "python3"
  },
  "language_info": {
   "codemirror_mode": {
    "name": "ipython",
    "version": 3
   },
   "file_extension": ".py",
   "mimetype": "text/x-python",
   "name": "python",
   "nbconvert_exporter": "python",
   "pygments_lexer": "ipython3",
   "version": "3.12.8"
  },
  "toc": {
   "base_numbering": 1,
   "nav_menu": {},
   "number_sections": true,
   "sideBar": true,
   "skip_h1_title": false,
   "title_cell": "Table of Contents",
   "title_sidebar": "Contents",
   "toc_cell": false,
   "toc_position": {},
   "toc_section_display": true,
   "toc_window_display": false
  },
  "varInspector": {
   "cols": {
    "lenName": 16,
    "lenType": 16,
    "lenVar": 40
   },
   "kernels_config": {
    "python": {
     "delete_cmd_postfix": "",
     "delete_cmd_prefix": "del ",
     "library": "var_list.py",
     "varRefreshCmd": "print(var_dic_list())"
    },
    "r": {
     "delete_cmd_postfix": ") ",
     "delete_cmd_prefix": "rm(",
     "library": "var_list.r",
     "varRefreshCmd": "cat(var_dic_list()) "
    }
   },
   "types_to_exclude": [
    "module",
    "function",
    "builtin_function_or_method",
    "instance",
    "_Feature"
   ],
   "window_display": false
  }
 },
 "nbformat": 4,
 "nbformat_minor": 1
}
