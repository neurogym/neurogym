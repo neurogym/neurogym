{
 "cells": [
  {
   "cell_type": "markdown",
   "metadata": {},
   "source": [
    "[![Open In Colab](https://colab.research.google.com/assets/colab-badge.svg)](https://colab.research.google.com/github/neurogym/neurogym/blob/main/docs/examples/supervised_learning_keras.ipynb)\n"
   ]
  },
  {
   "cell_type": "markdown",
   "metadata": {
    "colab_type": "text",
    "id": "4zW6CU8F69Zp"
   },
   "source": [
    "## Neurogym with Supervised Learning (keras)\n",
    "\n",
    "NeuroGym is a comprehensive toolkit that allows training any network model on many established neuroscience tasks using Reinforcement Learning techniques. It includes working memory tasks, value-based decision tasks and context-dependent perceptual categorization tasks.\n",
    "\n",
    "In this notebook we first show how to install the relevant toolbox.\n",
    "\n",
    "We then show how to access the available tasks and their relevant information.\n",
    "\n",
    "Finally we train an LSTM network on the Random Dots Motion task using standard supervised learning techniques (with Keras), and plot the results.\n"
   ]
  },
  {
   "cell_type": "markdown",
   "metadata": {
    "colab_type": "text",
    "id": "DS1FhYPG38WO"
   },
   "source": [
    "### Installation\n",
    "\n",
    "**Google Colab:** Uncomment and execute cell below when running this notebook on google colab.\n",
    "\n",
    "**Local:** Follow [these instructions](https://github.com/neurogym/neurogym?tab=readme-ov-file#installation) and then run\n",
    "`pip install tensorflow` when running this notebook locally.\n",
    "\n",
    "_NOTE: tensorflow is pre-installed in Google Colab, but not typically part of the neurogym library._\n"
   ]
  },
  {
   "cell_type": "code",
   "execution_count": null,
   "metadata": {
    "colab": {
     "base_uri": "https://localhost:8080/",
     "height": 561
    },
    "colab_type": "code",
    "id": "Q-4MfhnP4AgL",
    "outputId": "609a4b19-e5c5-4ff9-ca31-52b1b40f230d"
   },
   "outputs": [],
   "source": [
    "# ! pip install neurogym\n"
   ]
  },
  {
   "cell_type": "markdown",
   "metadata": {},
   "source": [
    "### Import libraries\n"
   ]
  },
  {
   "cell_type": "code",
   "execution_count": null,
   "metadata": {
    "code_folding": [],
    "colab": {
     "base_uri": "https://localhost:8080/",
     "height": 496
    },
    "colab_type": "code",
    "id": "jAxTPbzL38Wl",
    "outputId": "a7a65c14-5e6b-40ab-9f85-2ef8db4355e1"
   },
   "outputs": [],
   "source": [
    "import warnings\n",
    "from IPython.display import clear_output\n",
    "\n",
    "import numpy as np\n",
    "import neurogym as ngym\n",
    "from neurogym.utils import plotting\n",
    "\n",
    "# note that some system will show a warning that the lines below cannot be resolved/have missing imports.\n",
    "# if you've installed the current package as instructed, these imports will work fine nonetheless.\n",
    "from keras.models import Model\n",
    "from keras.layers import Dense, LSTM, TimeDistributed, Input\n",
    "\n",
    "clear_output()\n",
    "warnings.filterwarnings('ignore')\n"
   ]
  },
  {
   "cell_type": "markdown",
   "metadata": {
    "colab_type": "text",
    "id": "OCFMPbzX38Wj"
   },
   "source": [
    "### Task, network, and training\n"
   ]
  },
  {
   "cell_type": "code",
   "execution_count": null,
   "metadata": {},
   "outputs": [],
   "source": [
    "# This settings is low to speed up testing; we recommend setting it to at least 2000\n",
    "steps_per_epoch = 100\n",
    "\n",
    "\n",
    "# Environment\n",
    "task = 'PerceptualDecisionMaking-v0'\n",
    "kwargs = {'dt': 100}\n",
    "seq_len = 100\n",
    "\n",
    "# Make supervised dataset\n",
    "dataset = ngym.Dataset(task, env_kwargs=kwargs, batch_size=16,seq_len=seq_len)\n",
    "env = dataset.env\n",
    "obs_size = env.observation_space.shape[0]\n",
    "act_size = env.action_space.n\n",
    "\n",
    "# Model\n",
    "num_h = 64\n",
    "# from https://www.tensorflow.org/guide/keras/rnn\n",
    "xin = Input(batch_shape=(None, None, obs_size), dtype='float32')\n",
    "seq = LSTM(num_h, return_sequences=True)(xin)\n",
    "mlp = TimeDistributed(Dense(act_size, activation='softmax'))(seq)\n",
    "model = Model(inputs=xin, outputs=mlp)\n",
    "model.summary()\n",
    "model.compile(optimizer='Adam', loss='sparse_categorical_crossentropy', metrics=['accuracy'])\n",
    "\n",
    "# Train network\n",
    "data_generator = (dataset() for _ in range(steps_per_epoch))\n",
    "history = model.fit(data_generator, steps_per_epoch=steps_per_epoch)"
   ]
  },
  {
   "cell_type": "markdown",
   "metadata": {},
   "source": [
    "### Analysis\n"
   ]
  },
  {
   "cell_type": "code",
   "execution_count": null,
   "metadata": {
    "colab": {
     "base_uri": "https://localhost:8080/",
     "height": 122
    },
    "colab_type": "code",
    "id": "iaeFA3oklR99",
    "outputId": "f9f027df-f67e-41a6-d5d3-dd2d98555d6e"
   },
   "outputs": [],
   "source": [
    "# n_trials is set to a low number to speed up testing; we recommend setting it to at least 200\n",
    "n_trials = 50\n",
    "\n",
    "perf = 0\n",
    "for i in range(n_trials):\n",
    "    env.new_trial()\n",
    "    obs, gt = env.ob, env.gt\n",
    "    obs = obs[:, np.newaxis, :]\n",
    "\n",
    "    action_pred = model.predict(obs, verbose=0)\n",
    "    action_pred = np.argmax(action_pred, axis=-1)\n",
    "    perf += gt[-1] == action_pred[-1, 0]\n",
    "\n",
    "    if (i+1) % 10 == 0:\n",
    "        print(f\"Completed trial {i+1}/{n_trials}\")\n",
    "\n",
    "perf /= n_trials\n",
    "print(f\"Performance: {perf} after {i+1} trials\")"
   ]
  },
  {
   "cell_type": "code",
   "execution_count": null,
   "metadata": {
    "colab": {
     "base_uri": "https://localhost:8080/",
     "height": 225
    },
    "colab_type": "code",
    "id": "TdpkVOLhuRAK",
    "outputId": "e1abdc87-eaff-4e32-d395-1af3513a80ff"
   },
   "outputs": [],
   "source": [
    "obs = np.squeeze(obs, axis=1)  # remove the sequence dimension for plotting\n",
    "action_pred = np.squeeze(action_pred, axis=1)  # remove the sequence dimension for plotting\n",
    "\n",
    "_ = ngym.utils.plotting.fig_(obs, action_pred, gt)"
   ]
  }
 ],
 "metadata": {
  "accelerator": "GPU",
  "colab": {
   "name": "Neurogym with Supervised learning (keras)"
  },
  "hide_input": false,
  "kernelspec": {
   "display_name": "ngym_env",
   "language": "python",
   "name": "python3"
  },
  "language_info": {
   "codemirror_mode": {
    "name": "ipython",
    "version": 3
   },
   "file_extension": ".py",
   "mimetype": "text/x-python",
   "name": "python",
   "nbconvert_exporter": "python",
   "pygments_lexer": "ipython3",
   "version": "3.12.5"
  },
  "toc": {
   "base_numbering": 1,
   "nav_menu": {},
   "number_sections": true,
   "sideBar": true,
   "skip_h1_title": false,
   "title_cell": "Table of Contents",
   "title_sidebar": "Contents",
   "toc_cell": false,
   "toc_position": {},
   "toc_section_display": true,
   "toc_window_display": false
  },
  "varInspector": {
   "cols": {
    "lenName": 16,
    "lenType": 16,
    "lenVar": 40
   },
   "kernels_config": {
    "python": {
     "delete_cmd_postfix": "",
     "delete_cmd_prefix": "del ",
     "library": "var_list.py",
     "varRefreshCmd": "print(var_dic_list())"
    },
    "r": {
     "delete_cmd_postfix": ") ",
     "delete_cmd_prefix": "rm(",
     "library": "var_list.r",
     "varRefreshCmd": "cat(var_dic_list()) "
    }
   },
   "types_to_exclude": [
    "module",
    "function",
    "builtin_function_or_method",
    "instance",
    "_Feature"
   ],
   "window_display": false
  }
 },
 "nbformat": 4,
 "nbformat_minor": 1
}
